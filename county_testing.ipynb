{
 "cells": [
  {
   "cell_type": "code",
   "execution_count": 1,
   "metadata": {},
   "outputs": [],
   "source": [
    "import pandas as pd"
   ]
  },
  {
   "cell_type": "code",
   "execution_count": 20,
   "metadata": {},
   "outputs": [],
   "source": [
    "import credentials as cred\n",
    "key = cred.mapquest_api_key"
   ]
  },
  {
   "cell_type": "code",
   "execution_count": 3,
   "metadata": {},
   "outputs": [
    {
     "data": {
      "text/html": [
       "<div>\n",
       "<style scoped>\n",
       "    .dataframe tbody tr th:only-of-type {\n",
       "        vertical-align: middle;\n",
       "    }\n",
       "\n",
       "    .dataframe tbody tr th {\n",
       "        vertical-align: top;\n",
       "    }\n",
       "\n",
       "    .dataframe thead th {\n",
       "        text-align: right;\n",
       "    }\n",
       "</style>\n",
       "<table border=\"1\" class=\"dataframe\">\n",
       "  <thead>\n",
       "    <tr style=\"text-align: right;\">\n",
       "      <th></th>\n",
       "      <th>NAME</th>\n",
       "      <th>Geo Shape</th>\n",
       "    </tr>\n",
       "  </thead>\n",
       "  <tbody>\n",
       "    <tr>\n",
       "      <th>0</th>\n",
       "      <td>Kern</td>\n",
       "      <td>{\"coordinates\": [[[-119.913659, 35.439262], [-...</td>\n",
       "    </tr>\n",
       "    <tr>\n",
       "      <th>1</th>\n",
       "      <td>Kings</td>\n",
       "      <td>{\"coordinates\": [[[-119.958925, 36.255468], [-...</td>\n",
       "    </tr>\n",
       "    <tr>\n",
       "      <th>2</th>\n",
       "      <td>San Benito</td>\n",
       "      <td>{\"coordinates\": [[[-121.483002, 36.76505], [-1...</td>\n",
       "    </tr>\n",
       "    <tr>\n",
       "      <th>3</th>\n",
       "      <td>Fresno</td>\n",
       "      <td>{\"coordinates\": [[[-120.422187, 36.840139], [-...</td>\n",
       "    </tr>\n",
       "    <tr>\n",
       "      <th>4</th>\n",
       "      <td>Plumas</td>\n",
       "      <td>{\"coordinates\": [[[-121.367008, 40.077673], [-...</td>\n",
       "    </tr>\n",
       "  </tbody>\n",
       "</table>\n",
       "</div>"
      ],
      "text/plain": [
       "         NAME                                          Geo Shape\n",
       "0        Kern  {\"coordinates\": [[[-119.913659, 35.439262], [-...\n",
       "1       Kings  {\"coordinates\": [[[-119.958925, 36.255468], [-...\n",
       "2  San Benito  {\"coordinates\": [[[-121.483002, 36.76505], [-1...\n",
       "3      Fresno  {\"coordinates\": [[[-120.422187, 36.840139], [-...\n",
       "4      Plumas  {\"coordinates\": [[[-121.367008, 40.077673], [-..."
      ]
     },
     "execution_count": 3,
     "metadata": {},
     "output_type": "execute_result"
    }
   ],
   "source": [
    "import pandas as pd\n",
    "\n",
    "url = \"https://public.opendatasoft.com/explore/dataset/us-county-boundaries/download/?format=csv&refine.statefp=06&location=2,40.61349,40.02538&timezone=America/Los_Angeles&lang=en&use_labels_for_header=true&csv_separator=%3B\"\n",
    "\n",
    "df = pd.read_csv(url, sep=\";\")\n",
    "new_df = df[[\"NAME\", \"Geo Shape\"]].copy()\n",
    "\n",
    "new_df.head()"
   ]
  },
  {
   "cell_type": "code",
   "execution_count": 4,
   "metadata": {},
   "outputs": [
    {
     "data": {
      "text/plain": [
       "58"
      ]
     },
     "execution_count": 4,
     "metadata": {},
     "output_type": "execute_result"
    }
   ],
   "source": [
    "len(new_df)"
   ]
  },
  {
   "cell_type": "code",
   "execution_count": 5,
   "metadata": {},
   "outputs": [],
   "source": [
    "state_bounds = pd.read_csv(\"https://gist.githubusercontent.com/a8dx/2340f9527af64f8ef8439366de981168/raw/81d876daea10eab5c2675811c39bcd18a79a9212/US_State_Bounding_Boxes.csv\")\n",
    "state_bounds = state_bounds[['NAME', 'STUSPS', 'xmin', 'ymin', 'xmax', 'ymax']]\n",
    "state_bounds = state_bounds.rename(columns={\"xmin\": \"min_lng\", \"xmax\": \"max_lng\", \"ymin\": \"min_lat\", \"ymax\": \"max_lat\"})"
   ]
  },
  {
   "cell_type": "code",
   "execution_count": 6,
   "metadata": {},
   "outputs": [
    {
     "name": "stderr",
     "output_type": "stream",
     "text": [
      "C:\\Users\\gansi\\AppData\\Local\\Temp\\ipykernel_5156\\3874296136.py:52: FutureWarning: this method is deprecated in favour of `Styler.hide(axis='index')`\n",
      "  county_bounds_styled = county_bounds.style.hide_index().set_caption('County Bounds').format({\n"
     ]
    }
   ],
   "source": [
    "import ast\n",
    "import pandas as pd\n",
    "\n",
    "# Function to extract latitude and longitude from coordinates\n",
    "def extract_coordinates(geo_shape):\n",
    "    geo_dict = ast.literal_eval(geo_shape)\n",
    "    coordinates = []\n",
    "\n",
    "    if geo_dict['type'] == 'Polygon':\n",
    "        coordinates = geo_dict['coordinates'][0]\n",
    "    elif geo_dict['type'] == 'MultiPolygon':\n",
    "        for polygon in geo_dict['coordinates']:\n",
    "            coordinates.extend(polygon[0])\n",
    "    elif geo_dict['type'] == 'Point':\n",
    "        coordinates = [geo_dict['coordinates']]\n",
    "\n",
    "    latitudes = [coord[1] for coord in coordinates]\n",
    "    longitudes = [coord[0] for coord in coordinates]\n",
    "    return latitudes, longitudes\n",
    "\n",
    "# Create a list to store county bounds dataframes\n",
    "county_bounds_list = []\n",
    "\n",
    "# Iterate over each county\n",
    "for _, row in new_df.iterrows():\n",
    "    county_name = row['NAME']\n",
    "    latitudes, longitudes = extract_coordinates(row['Geo Shape'])\n",
    "\n",
    "    # Calculate the minimum and maximum latitude and longitude for the county\n",
    "    min_latitude = min(latitudes)\n",
    "    max_latitude = max(latitudes)\n",
    "    min_longitude = min(longitudes)\n",
    "    max_longitude = max(longitudes)\n",
    "\n",
    "    # Create a dataframe for the county bounds\n",
    "    county_bounds_df = pd.DataFrame({'County': county_name,\n",
    "                                     'Min_Latitude': min_latitude,\n",
    "                                     'Max_Latitude': max_latitude,\n",
    "                                     'Min_Longitude': min_longitude,\n",
    "                                     'Max_Longitude': max_longitude}, index=[0])\n",
    "\n",
    "    # Append the county bounds dataframe to the list\n",
    "    county_bounds_list.append(county_bounds_df)\n",
    "\n",
    "# Concatenate all county bounds dataframes into a single dataframe\n",
    "county_bounds = pd.concat(county_bounds_list, ignore_index=True)\n",
    "\n",
    "# Sort the DataFrame by county name\n",
    "county_bounds = county_bounds.sort_values('County')\n",
    "\n",
    "# Format the DataFrame for better display\n",
    "county_bounds_styled = county_bounds.style.hide_index().set_caption('County Bounds').format({\n",
    "    'Min Latitude': '{:.6f}',\n",
    "    'Max Latitude': '{:.6f}',\n",
    "    'Min Longitude': '{:.6f}',\n",
    "    'Max Longitude': '{:.6f}'\n",
    "})\n",
    "\n",
    "# Display the formatted DataFrame\n",
    "# display(county_bounds_styled)\n",
    "\n"
   ]
  },
  {
   "cell_type": "code",
   "execution_count": 7,
   "metadata": {},
   "outputs": [
    {
     "data": {
      "text/html": [
       "<div>\n",
       "<style scoped>\n",
       "    .dataframe tbody tr th:only-of-type {\n",
       "        vertical-align: middle;\n",
       "    }\n",
       "\n",
       "    .dataframe tbody tr th {\n",
       "        vertical-align: top;\n",
       "    }\n",
       "\n",
       "    .dataframe thead th {\n",
       "        text-align: right;\n",
       "    }\n",
       "</style>\n",
       "<table border=\"1\" class=\"dataframe\">\n",
       "  <thead>\n",
       "    <tr style=\"text-align: right;\">\n",
       "      <th></th>\n",
       "      <th>County</th>\n",
       "      <th>Min_Latitude</th>\n",
       "      <th>Max_Latitude</th>\n",
       "      <th>Min_Longitude</th>\n",
       "      <th>Max_Longitude</th>\n",
       "    </tr>\n",
       "  </thead>\n",
       "  <tbody>\n",
       "    <tr>\n",
       "      <th>22</th>\n",
       "      <td>Alameda</td>\n",
       "      <td>37.454186</td>\n",
       "      <td>37.905824</td>\n",
       "      <td>-122.373782</td>\n",
       "      <td>-121.469214</td>\n",
       "    </tr>\n",
       "    <tr>\n",
       "      <th>34</th>\n",
       "      <td>Alpine</td>\n",
       "      <td>38.326880</td>\n",
       "      <td>38.933324</td>\n",
       "      <td>-120.073331</td>\n",
       "      <td>-119.542332</td>\n",
       "    </tr>\n",
       "    <tr>\n",
       "      <th>14</th>\n",
       "      <td>Amador</td>\n",
       "      <td>38.217951</td>\n",
       "      <td>38.709029</td>\n",
       "      <td>-121.027710</td>\n",
       "      <td>-120.072333</td>\n",
       "    </tr>\n",
       "    <tr>\n",
       "      <th>57</th>\n",
       "      <td>Butte</td>\n",
       "      <td>39.295621</td>\n",
       "      <td>40.152024</td>\n",
       "      <td>-122.069431</td>\n",
       "      <td>-121.076695</td>\n",
       "    </tr>\n",
       "    <tr>\n",
       "      <th>12</th>\n",
       "      <td>Calaveras</td>\n",
       "      <td>37.831858</td>\n",
       "      <td>38.509869</td>\n",
       "      <td>-120.995500</td>\n",
       "      <td>-120.019951</td>\n",
       "    </tr>\n",
       "  </tbody>\n",
       "</table>\n",
       "</div>"
      ],
      "text/plain": [
       "       County  Min_Latitude  Max_Latitude  Min_Longitude  Max_Longitude\n",
       "22    Alameda     37.454186     37.905824    -122.373782    -121.469214\n",
       "34     Alpine     38.326880     38.933324    -120.073331    -119.542332\n",
       "14     Amador     38.217951     38.709029    -121.027710    -120.072333\n",
       "57      Butte     39.295621     40.152024    -122.069431    -121.076695\n",
       "12  Calaveras     37.831858     38.509869    -120.995500    -120.019951"
      ]
     },
     "execution_count": 7,
     "metadata": {},
     "output_type": "execute_result"
    }
   ],
   "source": [
    "county_bounds.head(5)"
   ]
  },
  {
   "cell_type": "code",
   "execution_count": 8,
   "metadata": {},
   "outputs": [],
   "source": [
    "import sqlite3"
   ]
  },
  {
   "cell_type": "code",
   "execution_count": 9,
   "metadata": {},
   "outputs": [],
   "source": [
    "conn = sqlite3.connect('test.db')"
   ]
  },
  {
   "cell_type": "code",
   "execution_count": 10,
   "metadata": {},
   "outputs": [
    {
     "data": {
      "text/plain": [
       "58"
      ]
     },
     "execution_count": 10,
     "metadata": {},
     "output_type": "execute_result"
    }
   ],
   "source": [
    "county_bounds.to_sql(\"counties\", conn, if_exists=\"replace\", index=False)"
   ]
  },
  {
   "cell_type": "code",
   "execution_count": 12,
   "metadata": {},
   "outputs": [
    {
     "data": {
      "text/plain": [
       "39    32.75004\n",
       "Name: Min_Latitude, dtype: float64"
      ]
     },
     "execution_count": 12,
     "metadata": {},
     "output_type": "execute_result"
    }
   ],
   "source": [
    "county_bounds[county_bounds['County'] == 'Los Angeles']['Min_Latitude']"
   ]
  },
  {
   "cell_type": "code",
   "execution_count": 13,
   "metadata": {},
   "outputs": [],
   "source": [
    "import traffic_data as td\n",
    "\n",
    "def get_county_incidents(conn, county):\n",
    "    cmd =\\\n",
    "    f\"\"\"\n",
    "    SELECT Min_Latitude, Max_Latitude, Min_Longitude, Max_Longitude FROM counties\n",
    "    WHERE County LIKE '{county.upper()}'\n",
    "    \"\"\"\n",
    "    # print(cmd)\n",
    "    cursor = conn.cursor()\n",
    "    cursor.execute(cmd)\n",
    "    # min_lat, max_lat, min_lng, max_lng = cursor.fetchone()\n",
    "    bbox = cursor.fetchone()\n",
    "\n",
    "    return td.get_incidents_in_area(conn, bbox)\n",
    "\n",
    "def update_county_incidents(conn, key, county):\n",
    "    cmd =\\\n",
    "    f\"\"\"\n",
    "    SELECT Min_Latitude, Max_Latitude, Min_Longitude, Max_Longitude FROM counties\n",
    "    WHERE County LIKE '{county.upper()}'\n",
    "    \"\"\"\n",
    "    # print(cmd)\n",
    "    cursor = conn.cursor()\n",
    "    cursor.execute(cmd)\n",
    "    # min_lat, max_lat, min_lng, max_lng = cursor.fetchone()\n",
    "    bbox = cursor.fetchone()\n",
    "    td.store_traffic_data(conn, key, bbox)\n",
    "\n",
    "def get_counties(conn):\n",
    "    cmd =\\\n",
    "    \"\"\"\n",
    "    SELECT county FROM counties\n",
    "    \"\"\"\n",
    "    cursor = conn.cursor()\n",
    "    cursor.execute(cmd)\n",
    "    return [i[0] for i in cursor.fetchall()]\n"
   ]
  },
  {
   "cell_type": "code",
   "execution_count": 14,
   "metadata": {},
   "outputs": [
    {
     "data": {
      "text/plain": [
       "['Alameda',\n",
       " 'Alpine',\n",
       " 'Amador',\n",
       " 'Butte',\n",
       " 'Calaveras',\n",
       " 'Colusa',\n",
       " 'Contra Costa',\n",
       " 'Del Norte',\n",
       " 'El Dorado',\n",
       " 'Fresno',\n",
       " 'Glenn',\n",
       " 'Humboldt',\n",
       " 'Imperial',\n",
       " 'Inyo',\n",
       " 'Kern',\n",
       " 'Kings',\n",
       " 'Lake',\n",
       " 'Lassen',\n",
       " 'Los Angeles',\n",
       " 'Madera',\n",
       " 'Marin',\n",
       " 'Mariposa',\n",
       " 'Mendocino',\n",
       " 'Merced',\n",
       " 'Modoc',\n",
       " 'Mono',\n",
       " 'Monterey',\n",
       " 'Napa',\n",
       " 'Nevada',\n",
       " 'Orange',\n",
       " 'Placer',\n",
       " 'Plumas',\n",
       " 'Riverside',\n",
       " 'Sacramento',\n",
       " 'San Benito',\n",
       " 'San Bernardino',\n",
       " 'San Diego',\n",
       " 'San Francisco',\n",
       " 'San Joaquin',\n",
       " 'San Luis Obispo',\n",
       " 'San Mateo',\n",
       " 'Santa Barbara',\n",
       " 'Santa Clara',\n",
       " 'Santa Cruz',\n",
       " 'Shasta',\n",
       " 'Sierra',\n",
       " 'Siskiyou',\n",
       " 'Solano',\n",
       " 'Sonoma',\n",
       " 'Stanislaus',\n",
       " 'Sutter',\n",
       " 'Tehama',\n",
       " 'Trinity',\n",
       " 'Tulare',\n",
       " 'Tuolumne',\n",
       " 'Ventura',\n",
       " 'Yolo',\n",
       " 'Yuba']"
      ]
     },
     "execution_count": 14,
     "metadata": {},
     "output_type": "execute_result"
    }
   ],
   "source": [
    "get_counties(conn)"
   ]
  },
  {
   "cell_type": "code",
   "execution_count": null,
   "metadata": {},
   "outputs": [
    {
     "name": "stdout",
     "output_type": "stream",
     "text": [
      "except triggered\n",
      "Page 1 processed.\n",
      "Page 2 processed.\n",
      "Page 3 processed.\n",
      "Page 4 processed.\n",
      "Page 5 processed.\n",
      "Page 6 processed.\n"
     ]
    }
   ],
   "source": [
    "# update_county_incidents(conn, key, \"Los Angeles\")"
   ]
  },
  {
   "cell_type": "code",
   "execution_count": 15,
   "metadata": {},
   "outputs": [
    {
     "data": {
      "text/plain": [
       "1"
      ]
     },
     "execution_count": 15,
     "metadata": {},
     "output_type": "execute_result"
    }
   ],
   "source": [
    "cmd =\\\n",
    "\"\"\"\n",
    "SELECT name FROM sqlite_master WHERE name='counties'\n",
    "\"\"\"\n",
    "cursor = conn.cursor()\n",
    "cursor.execute(cmd)\n",
    "len(cursor.fetchall())"
   ]
  },
  {
   "cell_type": "code",
   "execution_count": 18,
   "metadata": {},
   "outputs": [
    {
     "name": "stdout",
     "output_type": "stream",
     "text": [
      "\n",
      "            SELECT * FROM incidents\n",
      "            WHERE lat BETWEEN 32.75004 AND 34.823302\n",
      "            AND lng BETWEEN -118.951721 AND -117.646374\n",
      "        \n"
     ]
    },
    {
     "data": {
      "application/vnd.plotly.v1+json": {
       "config": {
        "plotlyServerURL": "https://plot.ly"
       },
       "data": [
        {
         "coloraxis": "coloraxis",
         "customdata": [
          [
           "Construction work",
           1
          ],
          [
           "Closed",
           4
          ],
          [
           "Closed",
           4
          ],
          [
           "Closed",
           4
          ],
          [
           "Construction work",
           1
          ],
          [
           "Accident investigation work",
           4
          ],
          [
           "Construction work",
           1
          ],
          [
           "Construction work",
           1
          ],
          [
           "Construction work",
           1
          ],
          [
           "Construction work",
           1
          ],
          [
           "Construction work",
           1
          ],
          [
           "Construction work",
           1
          ],
          [
           "Closed",
           4
          ],
          [
           "Construction work",
           1
          ],
          [
           "Construction work",
           1
          ],
          [
           "Closed",
           4
          ],
          [
           "Closed",
           4
          ],
          [
           "Closed due to road construction",
           1
          ],
          [
           "Lane blocked",
           1
          ],
          [
           "Road maintenance operations",
           1
          ],
          [
           "Closed due to road construction",
           1
          ],
          [
           "Closed due to road construction",
           1
          ],
          [
           "Closed",
           4
          ],
          [
           "Closed",
           4
          ],
          [
           "Road construction. Roadway reduced to one lane",
           1
          ],
          [
           "Closed due to road construction",
           1
          ],
          [
           "Construction work",
           1
          ],
          [
           "Road maintenance operations",
           1
          ],
          [
           "Closed due to road construction",
           1
          ],
          [
           "Closed due to road construction",
           1
          ],
          [
           "Road construction",
           1
          ],
          [
           "Lane closed",
           1
          ],
          [
           "Road maintenance operations",
           1
          ],
          [
           "Road construction",
           1
          ],
          [
           "Lane closed",
           1
          ],
          [
           "Road maintenance operations",
           1
          ],
          [
           "Construction work",
           1
          ],
          [
           "Road maintenance operations",
           1
          ],
          [
           "Closed",
           4
          ],
          [
           "Lane closed",
           1
          ],
          [
           "Closed",
           4
          ],
          [
           "Closed",
           4
          ],
          [
           "Road construction on the shoulder",
           1
          ],
          [
           "Closed",
           4
          ],
          [
           "Closed",
           4
          ],
          [
           "Construction work",
           1
          ],
          [
           "Closed",
           4
          ],
          [
           "Road construction",
           1
          ],
          [
           "Closed",
           4
          ],
          [
           "Obstruction on roadway",
           4
          ],
          [
           "Construction work",
           1
          ],
          [
           "Closed",
           4
          ],
          [
           "Closed",
           4
          ],
          [
           "Closed due to road construction",
           1
          ],
          [
           "Closed due to road construction",
           1
          ],
          [
           "Road construction",
           1
          ],
          [
           "Closed to through traffic",
           4
          ],
          [
           "Accident",
           4
          ],
          [
           "Closed",
           4
          ],
          [
           "Closed",
           4
          ],
          [
           "Closed",
           4
          ],
          [
           "Construction work",
           1
          ],
          [
           "Closed",
           4
          ],
          [
           "Closed",
           4
          ],
          [
           "Closed",
           4
          ],
          [
           "Closed",
           4
          ],
          [
           "Closed",
           4
          ],
          [
           "Closed due to road construction",
           1
          ],
          [
           "Closed",
           4
          ],
          [
           "Lane closed",
           1
          ],
          [
           "Closed",
           4
          ],
          [
           "Construction work",
           1
          ],
          [
           "Road maintenance operations",
           1
          ],
          [
           "Construction work",
           1
          ],
          [
           "Accident",
           4
          ],
          [
           "Closed",
           4
          ],
          [
           "Closed",
           4
          ],
          [
           "Closed due to road construction",
           1
          ],
          [
           "Closed",
           4
          ],
          [
           "Construction work",
           1
          ],
          [
           "Construction work",
           1
          ],
          [
           "Construction work",
           1
          ],
          [
           "Closed",
           4
          ],
          [
           "Closed due to road construction",
           1
          ],
          [
           "Construction work",
           1
          ],
          [
           "Closed due to road construction",
           1
          ],
          [
           "Closed",
           4
          ],
          [
           "Closed",
           4
          ],
          [
           "Closed",
           4
          ],
          [
           "Closed",
           4
          ],
          [
           "Closed",
           4
          ],
          [
           "Closed",
           4
          ],
          [
           "Road construction",
           1
          ],
          [
           "Closed",
           4
          ],
          [
           "Closed",
           4
          ],
          [
           "Closed",
           4
          ],
          [
           "Closed",
           4
          ],
          [
           "Traffic congestion",
           3
          ],
          [
           "Hazardous driving conditions",
           4
          ],
          [
           "Closed",
           4
          ],
          [
           "Closed",
           4
          ],
          [
           "Road construction",
           1
          ],
          [
           "Closed",
           4
          ],
          [
           "Closed",
           4
          ],
          [
           "Closed",
           4
          ],
          [
           "Obstruction on roadway",
           4
          ],
          [
           "Closed",
           4
          ],
          [
           "Road construction",
           1
          ],
          [
           "Accident",
           4
          ],
          [
           "Closed",
           4
          ],
          [
           "Closed due to road construction",
           1
          ],
          [
           "Closed due to road construction",
           1
          ],
          [
           "Closed",
           4
          ],
          [
           "Closed",
           4
          ],
          [
           "Closed",
           4
          ],
          [
           "Closed",
           4
          ],
          [
           "Road construction. Right lane closed",
           1
          ],
          [
           "Closed",
           4
          ],
          [
           "Construction work",
           1
          ],
          [
           "Construction work",
           1
          ],
          [
           "Road construction",
           1
          ],
          [
           "Road construction",
           1
          ],
          [
           "Closed",
           4
          ],
          [
           "Accident",
           4
          ],
          [
           "Closed",
           4
          ],
          [
           "Closed",
           4
          ],
          [
           "Closed",
           4
          ],
          [
           "Closed",
           4
          ],
          [
           "Closed",
           4
          ],
          [
           "Construction work",
           1
          ],
          [
           "Closed due to road construction",
           1
          ],
          [
           "Obstruction on roadway",
           4
          ],
          [
           "Construction work",
           1
          ],
          [
           "Closed",
           4
          ],
          [
           "Closed due to road construction",
           1
          ],
          [
           "Closed",
           4
          ],
          [
           "Closed",
           4
          ],
          [
           "Closed due to road construction",
           1
          ],
          [
           "Closed",
           4
          ],
          [
           "Closed due to road construction",
           1
          ],
          [
           "Construction work",
           1
          ],
          [
           "Construction work",
           1
          ],
          [
           "Construction work",
           1
          ],
          [
           "Construction work",
           1
          ],
          [
           "Construction work",
           1
          ],
          [
           "Construction work",
           1
          ],
          [
           "Accident",
           4
          ],
          [
           "Construction work",
           1
          ],
          [
           "Construction work",
           1
          ],
          [
           "Construction work",
           1
          ],
          [
           "Closed due to road construction",
           1
          ],
          [
           "Closed due to road construction",
           1
          ],
          [
           "Closed due to road construction",
           1
          ],
          [
           "Accident. Two lanes blocked",
           4
          ],
          [
           "Lane closed",
           1
          ],
          [
           "Roadway reduced to two lanes",
           1
          ],
          [
           "Closed",
           4
          ],
          [
           "Lane closed",
           1
          ],
          [
           "Closed",
           4
          ],
          [
           "Construction work",
           1
          ],
          [
           "Closed due to road construction",
           1
          ],
          [
           "Closed",
           4
          ],
          [
           "Closed",
           4
          ],
          [
           "Road construction",
           1
          ],
          [
           "Closed",
           4
          ],
          [
           "Closed due to road construction",
           1
          ],
          [
           "Closed",
           4
          ],
          [
           "Construction work",
           1
          ],
          [
           "Closed due to road construction",
           1
          ],
          [
           "Closed",
           4
          ],
          [
           "Closed",
           4
          ],
          [
           "Construction work",
           1
          ],
          [
           "Roadway reduced to two lanes",
           1
          ],
          [
           "Closed",
           4
          ],
          [
           "Closed",
           4
          ],
          [
           "Closed",
           4
          ],
          [
           "Road maintenance operations",
           1
          ],
          [
           "Closed due to road construction",
           1
          ],
          [
           "Closed",
           4
          ],
          [
           "Closed",
           4
          ],
          [
           "Closed due to road construction",
           1
          ],
          [
           "Closed",
           4
          ],
          [
           "Construction work",
           1
          ],
          [
           "Closed due to road construction",
           1
          ],
          [
           "Closed",
           4
          ],
          [
           "Road construction",
           1
          ],
          [
           "Construction work",
           1
          ],
          [
           "Closed due to road construction",
           1
          ],
          [
           "Closed",
           4
          ],
          [
           "Closed due to road construction",
           1
          ],
          [
           "intermittent short term closures",
           4
          ],
          [
           "Closed",
           4
          ],
          [
           "Closed",
           4
          ],
          [
           "Closed",
           4
          ],
          [
           "Closed",
           4
          ],
          [
           "Traffic congestion",
           3
          ],
          [
           "Closed",
           4
          ],
          [
           "Construction work",
           1
          ],
          [
           "Vehicle on fire",
           4
          ],
          [
           "Closed due to road construction",
           1
          ],
          [
           "Closed due to road construction",
           1
          ],
          [
           "Construction work",
           1
          ],
          [
           "Construction work",
           1
          ],
          [
           "Closed",
           4
          ],
          [
           "Road construction",
           1
          ],
          [
           "Accident. Shoulder blocked",
           4
          ],
          [
           "Closed",
           4
          ],
          [
           "Closed",
           4
          ],
          [
           "Construction work",
           1
          ],
          [
           "Construction work",
           1
          ],
          [
           "Closed due to road construction",
           1
          ],
          [
           "Closed",
           4
          ],
          [
           "Closed",
           4
          ],
          [
           "Closed",
           4
          ],
          [
           "Lane closed",
           1
          ],
          [
           "intermittent short term closures",
           4
          ],
          [
           "Construction work",
           1
          ],
          [
           "Closed",
           4
          ],
          [
           "Closed",
           4
          ],
          [
           "Closed",
           4
          ],
          [
           "Closed due to road construction",
           1
          ],
          [
           "Closed",
           4
          ],
          [
           "Lane closed",
           1
          ],
          [
           "Closed",
           4
          ],
          [
           "Construction work",
           1
          ],
          [
           "Closed",
           4
          ],
          [
           "Closed",
           4
          ],
          [
           "Closed due to road construction",
           1
          ],
          [
           "Closed due to road construction",
           1
          ],
          [
           "Closed",
           4
          ],
          [
           "Closed due to road construction",
           1
          ],
          [
           "Closed due to road construction",
           1
          ],
          [
           "Road construction",
           1
          ],
          [
           "Bridge maintenance operations",
           1
          ],
          [
           "Closed",
           4
          ],
          [
           "Closed",
           4
          ],
          [
           "Road construction",
           1
          ],
          [
           "Closed",
           4
          ],
          [
           "Closed",
           4
          ],
          [
           "Closed due to road construction",
           1
          ],
          [
           "Closed due to road construction",
           1
          ],
          [
           "Road construction",
           1
          ],
          [
           "Road construction",
           1
          ],
          [
           "Closed",
           4
          ],
          [
           "Closed due to road construction",
           1
          ],
          [
           "Closed to through traffic",
           4
          ],
          [
           "Stop and go traffic. Approach with care",
           3
          ],
          [
           "Traffic congestion",
           3
          ],
          [
           "Closed",
           4
          ],
          [
           "Construction work",
           1
          ],
          [
           "Obstruction on roadway",
           4
          ],
          [
           "Closed",
           4
          ],
          [
           "Obstruction on roadway",
           4
          ],
          [
           "Road construction",
           1
          ],
          [
           "Lane closed",
           1
          ],
          [
           "Closed",
           4
          ],
          [
           "Construction work",
           1
          ],
          [
           "Construction work",
           1
          ],
          [
           "Accident",
           4
          ],
          [
           "Accident",
           4
          ],
          [
           "Closed",
           4
          ],
          [
           "Closed",
           4
          ],
          [
           "Accident",
           4
          ],
          [
           "Closed",
           4
          ],
          [
           "Closed",
           4
          ],
          [
           "Closed due to road construction",
           1
          ],
          [
           "Construction work",
           1
          ],
          [
           "Closed",
           4
          ],
          [
           "Closed",
           4
          ],
          [
           "Closed",
           4
          ],
          [
           "Closed due to road construction",
           1
          ],
          [
           "Construction work",
           1
          ],
          [
           "Road construction",
           1
          ],
          [
           "Construction work",
           1
          ],
          [
           "Construction work",
           1
          ],
          [
           "Construction work",
           1
          ],
          [
           "Paving operations",
           1
          ],
          [
           "Construction work",
           1
          ],
          [
           "Accident",
           4
          ],
          [
           "Accident. Shoulder blocked",
           4
          ],
          [
           "Roadway reduced to one lane",
           1
          ],
          [
           "Closed",
           4
          ],
          [
           "Closed",
           4
          ],
          [
           "Construction work",
           1
          ],
          [
           "Closed due to road construction",
           1
          ],
          [
           "Closed",
           4
          ],
          [
           "Closed",
           4
          ],
          [
           "Closed due to road construction",
           1
          ],
          [
           "Closed",
           4
          ],
          [
           "Closed due to road construction",
           1
          ],
          [
           "Construction work",
           1
          ],
          [
           "Closed",
           4
          ],
          [
           "Closed",
           4
          ],
          [
           "Closed",
           4
          ],
          [
           "Lane closed",
           1
          ],
          [
           "Closed",
           4
          ],
          [
           "Closed",
           4
          ],
          [
           "Closed",
           4
          ],
          [
           "Road construction",
           1
          ],
          [
           "Closed",
           4
          ],
          [
           "Backed-up traffic with average speeds of 30 km/h. Approach with care",
           3
          ],
          [
           "Closed",
           4
          ],
          [
           "Road maintenance operations",
           1
          ],
          [
           "Closed due to road construction",
           1
          ],
          [
           "Closed due to road construction",
           1
          ],
          [
           "Stop and go traffic. Approach with care",
           3
          ],
          [
           "Construction work",
           1
          ],
          [
           "Closed",
           4
          ],
          [
           "Construction work",
           1
          ],
          [
           "Closed",
           4
          ],
          [
           "Closed due to road construction",
           1
          ],
          [
           "Closed",
           4
          ],
          [
           "Closed",
           4
          ],
          [
           "Closed",
           4
          ],
          [
           "Closed",
           4
          ],
          [
           "Road construction",
           1
          ],
          [
           "Closed",
           4
          ],
          [
           "Closed",
           4
          ],
          [
           "Closed",
           4
          ],
          [
           "Long-term road construction",
           1
          ],
          [
           "Construction work",
           1
          ],
          [
           "Closed",
           4
          ],
          [
           "Closed",
           4
          ],
          [
           "Construction work",
           1
          ],
          [
           "Closed",
           4
          ],
          [
           "Closed due to road construction",
           1
          ],
          [
           "Closed",
           4
          ],
          [
           "Construction work",
           1
          ],
          [
           "Construction work",
           1
          ],
          [
           "Closed",
           4
          ],
          [
           "Construction work",
           1
          ],
          [
           "Backed-up traffic. Approach with care",
           3
          ],
          [
           "Closed",
           4
          ],
          [
           "Road maintenance operations",
           1
          ],
          [
           "Closed",
           4
          ],
          [
           "Closed",
           4
          ],
          [
           "Construction work",
           1
          ],
          [
           "Closed due to road construction",
           1
          ],
          [
           "Construction work",
           1
          ],
          [
           "Closed",
           4
          ],
          [
           "Closed",
           4
          ],
          [
           "Obstruction on roadway",
           4
          ],
          [
           "Closed",
           4
          ],
          [
           "Construction work",
           1
          ],
          [
           "Closed due to road construction",
           1
          ],
          [
           "Closed",
           4
          ],
          [
           "Construction work",
           1
          ],
          [
           "Closed",
           4
          ],
          [
           "Closed",
           4
          ],
          [
           "Road construction",
           1
          ],
          [
           "Lane closed",
           1
          ],
          [
           "Construction work",
           1
          ],
          [
           "Construction work",
           1
          ],
          [
           "Closed due to road construction",
           1
          ],
          [
           "Closed due to road construction",
           1
          ],
          [
           "Closed",
           4
          ],
          [
           "Closed",
           4
          ],
          [
           "Closed due to road construction",
           1
          ],
          [
           "Construction work",
           1
          ],
          [
           "Closed",
           4
          ],
          [
           "Road construction",
           1
          ],
          [
           "Closed",
           4
          ],
          [
           "Closed",
           4
          ],
          [
           "Construction work",
           1
          ],
          [
           "Closed due to road construction",
           1
          ],
          [
           "Closed",
           4
          ],
          [
           "Closed",
           4
          ],
          [
           "Construction work",
           1
          ],
          [
           "Construction work",
           1
          ],
          [
           "Closed",
           4
          ],
          [
           "Long-term road construction",
           1
          ],
          [
           "Closed",
           4
          ],
          [
           "Construction work",
           1
          ],
          [
           "Construction work",
           1
          ],
          [
           "Closed",
           4
          ],
          [
           "Closed due to road construction",
           1
          ],
          [
           "Closed",
           4
          ],
          [
           "Closed",
           4
          ]
         ],
         "hovertemplate": "<b>%{hovertext}</b><br><br>lat=%{lat}<br>lng=%{lon}<br>shortDesc=%{customdata[0]}<br>type=%{customdata[1]}<extra></extra>",
         "hovertext": [
          "1055125127505329319",
          "2719372949518547554",
          "194792865527244746",
          "2297914434273938396",
          "227353499698559744",
          "2605475812292939768",
          "4288699351365797304",
          "4368211679228852888",
          "4607509461124176506",
          "3120741073725693708",
          "687365912640934332",
          "102279950021105372",
          "1586237069639425465",
          "1843850149223448751",
          "706739897269422356",
          "4374744579206935635",
          "4117730569693685650",
          "1722003313446851913",
          "1729037791488938340",
          "307525260093885751",
          "2371689808344223547",
          "4098836022125394379",
          "1309309776730355423",
          "763602326800051846",
          "2276990893165056257",
          "4300073499033729228",
          "1408716749907187658",
          "2198494889796157972",
          "1214117157098557230",
          "3219705739539623804",
          "2050355203583377666",
          "332333721394284051",
          "2642046433392791888",
          "2070565368495024198",
          "638483015381683326",
          "2525897206603360672",
          "3741816047379440967",
          "3548640250458022372",
          "2036747153247646586",
          "3931743219536836024",
          "3838956794035849171",
          "701972449395754979",
          "381568948855714840",
          "2179235307289577791",
          "4500558252099712577",
          "4443058283703596406",
          "4252452269608482611",
          "4289073184073047882",
          "3382843699632539720",
          "1817011535952495004",
          "2682556939030947553",
          "4015520102145726386",
          "1231367996345024870",
          "3320108946496914821",
          "3845156496818640501",
          "2489902205081291083",
          "296690372259370133",
          "2971855188768188250",
          "4553268740838006840",
          "436413819027993771",
          "1705825901730575667",
          "704174954072739866",
          "1347735648255560179",
          "1267340289041497001",
          "3571294692102277442",
          "434513800555822008",
          "2318063232502473604",
          "3924174137948648355",
          "652391628192544107",
          "3748487819750425951",
          "1835570377648508774",
          "899949754348833890",
          "2563021191719478900",
          "2796472493474359033",
          "33646931146628491",
          "448979691654282397",
          "942892357041712231",
          "923671960394652565",
          "2240539991287925696",
          "4359232499585138850",
          "2913606233005741745",
          "1607058272749035347",
          "3050862782587571416",
          "1934523263126033560",
          "556870110099064032",
          "4243491477132091709",
          "2918428876621578491",
          "2843079917809615692",
          "4177403503441529211",
          "1023543159989329436",
          "4041682897222659006",
          "2965041288776879237",
          "362669937302460756",
          "2208049420458807685",
          "3198763281991994308",
          "2139566092637608434",
          "381262041606251470",
          "4303932022754334219",
          "2585111607388095821",
          "507962946471246979",
          "2960144940506958622",
          "1492870541637463831",
          "3638966661676733964",
          "197856908823651231",
          "1491154557713261735",
          "4211269327993450337",
          "1540326198952431561",
          "2480259711079466481",
          "3990865581162576084",
          "2298821743157784178",
          "1546358736135293183",
          "2444611058553111130",
          "1635198741493472143",
          "3673895926785909020",
          "4399740442209900558",
          "4564829562364323577",
          "345291341111129261",
          "2198854391174146749",
          "4177331040426625741",
          "591041084524845448",
          "994276599912797520",
          "4279573954757266560",
          "3671922795207845656",
          "3423450695544748686",
          "1590228423722290951",
          "2275000253297842341",
          "2493577440440832092",
          "965157317218831845",
          "616079182627307728",
          "617741643890958653",
          "1897448631922188014",
          "3325595434193226331",
          "1291326397680741263",
          "2825380185789653195",
          "1682442276132987830",
          "1912814963134105031",
          "2012415895102949331",
          "3921936851985117554",
          "185874965443681902",
          "252652764899864327",
          "105577045003934052",
          "33070742614457313",
          "1999175553792024515",
          "824963791746593046",
          "1445662944419282012",
          "3942389970794348609",
          "2157624056423133497",
          "4232390610035516592",
          "3046428134734926620",
          "2561365603240763193",
          "2239212725596141039",
          "747153290724463095",
          "1467295426994520885",
          "1745986986172225071",
          "4538069103875306363",
          "606179935217229076",
          "1198378028475099294",
          "2011380878667015535",
          "4005378514910769925",
          "2423438002418189270",
          "4160990065257534008",
          "1083112904694808835",
          "2862840284060765004",
          "3201114655506695180",
          "3806995385871636687",
          "1682364613517065568",
          "1442437852840795799",
          "2240412786377916284",
          "3121814878628278726",
          "3547617849124419541",
          "3084000656365285010",
          "4392692115838945953",
          "4199345383679122186",
          "2175824269897587909",
          "223870107045525805",
          "3067590689698960984",
          "1273400671265363826",
          "2010216300142426589",
          "2198341629528650827",
          "3852616664187343094",
          "586762761861778029",
          "1139504503223032734",
          "1752982382785368198",
          "357352815382898215",
          "3643987417143095224",
          "3472855335458983701",
          "1020596585460060691",
          "2544618510158194099",
          "2740934008738945800",
          "3456587776248225741",
          "1572823183218957381",
          "802157559823595949",
          "2476544034679306878",
          "3233738078373625579",
          "970248247872264832",
          "275498793206720196",
          "425593058986321058",
          "794549205803872719",
          "780624283683363357",
          "1837264096002474795",
          "515289933011242663",
          "2169419902134232838",
          "3450189667036552870",
          "3994027164458472668",
          "2617543117460335043",
          "3432363730774410904",
          "4076565711554996994",
          "274654684741292281",
          "4169817850799690449",
          "71893092581772910",
          "1933548701079212369",
          "93810530188321832",
          "2246344958374922576",
          "3654448904262046784",
          "2613817131314591897",
          "3876748755851736395",
          "4293761118711893980",
          "599420922712627049",
          "2333196565688669367",
          "2912690266779537090",
          "3637998206722510702",
          "4274382334208269649",
          "2032662114107719250",
          "1033810638302518441",
          "4029346499539625035",
          "2076224389819250418",
          "3711904447115025931",
          "736573703637995327",
          "3947842081660445766",
          "3129222925515677596",
          "3646037352150049588",
          "1918457736423942845",
          "3631099195017499542",
          "3454433626937618894",
          "1587704983809488434",
          "816109306967418962",
          "3460928859353207917",
          "3244058869284984879",
          "4534097692510526473",
          "3027215985664938935",
          "1892420191333046306",
          "915081985637907635",
          "3542714323303406047",
          "2090270913545027073",
          "2216543780455018685",
          "662601299512025735",
          "352209224207901278",
          "977872512817209486",
          "3750322594955061137",
          "523867992033006312",
          "1570680732135863884",
          "831468814438765362",
          "1425867344605289461",
          "2701830087158256643",
          "4293794159537378087",
          "1639455757804973571",
          "4373639345798547759",
          "2966257136605006090",
          "3856755141089554177",
          "2370473743173160188",
          "390526700474797756",
          "4507242269256312889",
          "3175663444357306003",
          "3584267840798000713",
          "814147737221807161",
          "463614011279017335",
          "2713614076170789857",
          "3405212832689602563",
          "2027183543420622179",
          "4492609678494869630",
          "3284043610498759352",
          "618541008422776795",
          "4428884629297072624",
          "2117989184349606275",
          "2582246404063681869",
          "1628683122644731190",
          "608876260954198655",
          "3252109181711628988",
          "4249419296790124490",
          "1012536978588248058",
          "2673210276936295671",
          "3012756245548128930",
          "4002250298914444237",
          "2045739334605567473",
          "1390194305004953936",
          "3678898885711589873",
          "4396310692654645131",
          "4530967319281858863",
          "2063310371315943904",
          "3048518055991975996",
          "999385195536954718",
          "4342843780557775151",
          "1865817876024128537",
          "377857830489563592",
          "1391710707412293001",
          "2241709307248325857",
          "2480187353793797581",
          "1893000753250230780",
          "1791360785223486018",
          "3008370841973872310",
          "408571655208478112",
          "1320287223459107860",
          "1977331335606465299",
          "3131399188027029939",
          "3514921088186736318",
          "2953283126751353190",
          "2691236066943233040",
          "534204842168444518",
          "428933549409675921",
          "3438151744482363128",
          "2461740971071573613",
          "3840806907449556691",
          "373821284634706990",
          "4349138595092470120",
          "2179645573534329578",
          "1472698708286127532",
          "4547822411331836907",
          "3715432452457575991",
          "1021170934789644768",
          "4559522955788392201",
          "1478716322764676107",
          "1172672075696828773",
          "928562070903078445",
          "477842227091334674",
          "2488671726005095476",
          "2161323569390718306",
          "4368902032864753496",
          "2833397406935549531",
          "2046407673613524863",
          "3858410773468239194",
          "2081179902420554110",
          "1809111012289003427",
          "1392335916753727833",
          "1772932653739184233",
          "1873394192881298021",
          "3962118582944858408",
          "2337272585898829825",
          "756143693713811839",
          "3196633955682115929",
          "2638654152000309322",
          "4259200504797814838",
          "1440315334338735632",
          "2843412045576887756",
          "3591958638811907627",
          "2575720417112756940",
          "1530028688286393071",
          "3145146637793097583",
          "774200673340153205",
          "2204462987826516673",
          "2202517121261749470",
          "1380012307511331583",
          "1872952114529804780",
          "3553455370207722648",
          "1319433032281705240",
          "3111029325260154276",
          "2492320700983194215",
          "3655472709755007100",
          "104615169159870491",
          "159457039556107945",
          "4582895770664102976",
          "1292202460410331616",
          "1358168797824732255",
          "476709238200051808",
          "3713624761014607155",
          "1962629633284511807",
          "2359165357419943967",
          "250699729307849954",
          "949759434418975423",
          "1766821962563411208",
          "2275419330645177373",
          "3442330123923016316",
          "2214245106858727753",
          "542830539938513365",
          "2937547351335282149",
          "4200371400466728594",
          "3315570175377170973",
          "4082128641721094457",
          "3098200539479986174"
         ],
         "lat": [
          33.70900997892022,
          33.751319982111454,
          33.74986999668181,
          33.7160599976778,
          33.74445998109877,
          33.749560033902526,
          33.73119997791946,
          33.73398997820914,
          33.745500007644296,
          33.74858002178371,
          33.74458998441696,
          33.745690025389194,
          33.7302600312978,
          33.70174001902342,
          33.74744997359812,
          33.72298998758197,
          33.71577995829284,
          33.75242002308369,
          33.752290019765496,
          33.62044000066817,
          33.6979900393635,
          33.744210032746196,
          33.547000028193,
          33.74971996061504,
          33.606810020282865,
          33.70178997516632,
          33.68799998424947,
          33.60186000354588,
          33.74793000519276,
          33.74419997446239,
          33.728569988161325,
          33.584469985216856,
          33.617680007591844,
          33.728569988161325,
          33.613170040771365,
          33.61457996070385,
          33.69045998901129,
          33.62700001336634,
          33.750030007213354,
          33.61614997498691,
          33.87414000928402,
          33.976789992302656,
          34.06597997993231,
          33.769669979810715,
          33.874539993703365,
          34.06033996492624,
          34.08583000302315,
          34.08380996435881,
          33.78721003420651,
          34.171530017629266,
          33.865579990670085,
          33.975930009037256,
          33.76988003030419,
          33.902170015498996,
          34.25846996717155,
          34.27832996472716,
          34.08380996435881,
          34.140140041708946,
          34.68790001235902,
          33.959900038316846,
          34.31055000051856,
          34.04805997386575,
          33.98214996792376,
          33.769669979810715,
          34.133869959041476,
          33.77658002078533,
          34.60389004088938,
          33.96244000643492,
          33.94452997483313,
          34.12189004011452,
          33.961729975417256,
          33.854340026155114,
          34.02360996231437,
          34.06318997964263,
          34.40712000243366,
          33.9493599627167,
          34.15329996496439,
          33.98936997167766,
          34.078389974310994,
          34.06258002854884,
          33.8784599583596,
          33.770489981397986,
          33.97664004005492,
          33.944020019844174,
          34.06173001974821,
          33.960170019418,
          33.89334999024868,
          34.08537997864187,
          34.689900018274784,
          34.640700006857514,
          34.249369986355305,
          34.06003997661173,
          34.02555003762245,
          34.08209997229278,
          34.122799979522824,
          33.95885003730655,
          34.57527003251016,
          34.10515003837645,
          34.124260023236275,
          34.04351002536714,
          33.783700028434396,
          34.02550997212529,
          34.576629996299744,
          34.06849002465606,
          34.393300004303455,
          34.17208003811538,
          33.98171997629106,
          34.18190999887884,
          33.846779968589544,
          34.014300014823675,
          33.989269975572824,
          34.07236003316939,
          33.76989997923374,
          34.117839988321066,
          33.78278003074229,
          34.329229993745685,
          34.49899999424815,
          33.87431996874511,
          34.05923003330827,
          34.06235002912581,
          33.9453499764204,
          33.94557997584343,
          34.15945001877844,
          34.646310014650226,
          34.60345996543765,
          34.27295004017651,
          34.210460018366575,
          34.10680999048054,
          34.07657998614013,
          34.06194996088743,
          34.03652999550104,
          34.414570005610585,
          34.056519996374846,
          34.15293996222317,
          34.0720899682492,
          33.94734998233616,
          34.07657001167536,
          34.03665002435446,
          34.460030011832714,
          33.901329981163144,
          34.06243996694684,
          33.85428998619318,
          33.88290002010763,
          33.85428998619318,
          33.7693200353533,
          33.771730000153184,
          34.03981000185013,
          33.9478300139308,
          33.90247997827828,
          34.063649978488684,
          34.58486999385059,
          34.05829000286758,
          34.058129992336035,
          34.41890001296997,
          34.359139977023005,
          34.06518001109362,
          34.03998996131122,
          34.39621003344655,
          34.0835099760443,
          34.0578399784863,
          34.13346997462213,
          34.166180016472936,
          34.134210012853146,
          33.961209962144494,
          33.97563999518752,
          33.952660001814365,
          33.94452997483313,
          34.063800014555454,
          33.94364995881915,
          33.79159997217357,
          34.57294003106654,
          34.0620500408113,
          34.064339976757765,
          34.166180016472936,
          34.5788200199604,
          34.071989972144365,
          34.02825001627207,
          34.03567001223564,
          34.118290012702346,
          33.97664004005492,
          34.12955998443067,
          33.77050003968179,
          33.771750032901764,
          33.932010009884834,
          34.24799996428192,
          34.5788200199604,
          33.862399980425835,
          34.03061999939382,
          34.08480003476143,
          33.902170015498996,
          33.77186997793615,
          34.73592999391258,
          34.0633400157094,
          34.04357003979385,
          34.06600998714566,
          34.3809299916029,
          34.06758000142872,
          33.85428998619318,
          34.082840010523796,
          34.12990003824234,
          33.94480003975332,
          33.854259978979826,
          34.146199990063906,
          34.21102998778224,
          34.57527003251016,
          33.90430999919772,
          34.063180005177855,
          33.94396997988224,
          34.06194996088743,
          33.8297900184989,
          34.13099999539554,
          34.03190997429192,
          34.04926998540759,
          33.77173997461796,
          34.152430007234216,
          33.77589002251625,
          34.04453999362886,
          34.08005998469889,
          34.09712000750005,
          34.39309003762901,
          33.9436300098896,
          33.769669979810715,
          34.70018000341952,
          34.042850034311414,
          33.85428998619318,
          33.95413001999259,
          34.109869971871376,
          33.96119998767972,
          33.761420007795095,
          33.77172002568841,
          34.35680997557938,
          34.03648003935814,
          34.08346999436617,
          33.87447000481188,
          34.05707001686096,
          33.94734998233616,
          33.94504998810589,
          33.95269000902772,
          34.03938001021743,
          33.902490036562085,
          34.02198001742363,
          34.284949991852045,
          34.029490035027266,
          34.124260023236275,
          33.763329992070794,
          34.08031999133527,
          34.10515003837645,
          34.54308997839689,
          34.04322998598218,
          34.10677998326719,
          33.91615999862552,
          34.031509989872575,
          34.02765003964305,
          34.0720899682492,
          34.66200998984277,
          34.55472003668547,
          34.04424000531435,
          34.05434003099799,
          33.9028500393033,
          33.89833001419902,
          33.76842996105552,
          33.97813000716269,
          33.87706998735666,
          34.05241001397371,
          34.07528003677726,
          34.02211002074182,
          33.76710000447929,
          34.056689981371164,
          34.05875997617841,
          33.77459996379912,
          34.13221998140216,
          34.05832998454571,
          34.07236003316939,
          34.089389964938164,
          33.833760023117065,
          33.865579990670085,
          34.13090997375548,
          34.04853003099561,
          33.90503997914493,
          34.408449959009886,
          33.95269000902772,
          34.173849960789084,
          34.71715000458062,
          33.86196001432836,
          34.13246003910899,
          33.78968998789787,
          33.98306996561587,
          34.042899990454316,
          34.557940028607845,
          34.046809980645776,
          34.07929999753833,
          33.99253003299236,
          34.20403000898659,
          33.80442000925541,
          34.12058003246784,
          34.10581002943218,
          34.09350003115833,
          33.919509993866086,
          33.999669989570975,
          33.99070001207292,
          34.08169001340866,
          33.983039958402514,
          34.08698000013828,
          34.003300024196506,
          34.37514002434909,
          33.80228002555668,
          33.943419959396124,
          34.21798998489976,
          34.13602000102401,
          33.919460037723184,
          34.001089967787266,
          34.1342400200665,
          34.12979995831847,
          34.23606002703309,
          33.75351998023689,
          33.99724996648729,
          34.557940028607845,
          34.2174800299108,
          34.356539994478226,
          33.89942997135222,
          33.99729003198445,
          33.79507997073233,
          34.08697002567351,
          33.75033996999264,
          34.10835997201502,
          33.9971199631691,
          34.09289997071028,
          33.96851001307368,
          34.122069999575615,
          34.04387002810836,
          34.13604003377259,
          34.08680004067719,
          34.09288002178073,
          34.012089958414435,
          34.09827000461519,
          33.97501001134515,
          33.751410003751516,
          34.35702002607286,
          33.997369995340705,
          34.259509993717074,
          33.91983998939395,
          33.85409996844828,
          34.042899990454316,
          34.011979987844825,
          33.997070007026196,
          33.99037999100983,
          34.13532002829015,
          34.085160037502646,
          33.919890029355884,
          34.08510999754071,
          33.961169980466366,
          34.01196003891528,
          34.00018002837896,
          34.04332000762224,
          34.04627999290824,
          33.78956995904446,
          34.31425999850035,
          34.034710032865405,
          33.99677999317646,
          34.013589983806014,
          34.08874003216624,
          34.10632995888591,
          34.088789988309145,
          33.983039958402514,
          33.99618001654744,
          33.91885000281036,
          33.87237997725606,
          34.00035001337528,
          34.00147997774184,
          34.12965000607073,
          33.89938001520932,
          34.01362996548414,
          34.13719003088772,
          34.00104998610914,
          33.87240001000464,
          34.03564000502229,
          34.23396999947727,
          34.093470023944974
         ],
         "lon": [
          -117.9545099940151,
          -118.25052000582218,
          -118.25203998014331,
          -117.96448999084532,
          -118.0035100132227,
          -118.26170003972948,
          -117.98922004178166,
          -117.98943998292089,
          -118.00745998509228,
          -118.00702001899481,
          -118.00266997888684,
          -118.0071999784559,
          -117.98073001205921,
          -117.95424001291394,
          -118.00723996013403,
          -117.98064996488392,
          -117.97016998752952,
          -117.85790998488665,
          -117.8579399921,
          -117.82258001156151,
          -117.94560003094375,
          -117.91892998851836,
          -117.70325004123151,
          -117.86354002542794,
          -117.79868999496102,
          -117.9456199798733,
          -117.9193299729377,
          -117.68593001179397,
          -117.8884799592197,
          -117.91846001520753,
          -117.80902999453247,
          -117.67155001871288,
          -117.90683004073799,
          -117.80902999453247,
          -117.89219004102051,
          -117.70776000805199,
          -117.9195199906826,
          -117.83266997896135,
          -117.86357003264129,
          -117.9077500384301,
          -118.2166899740696,
          -118.41658000834286,
          -118.21639996021986,
          -118.13160996884108,
          -118.21457999758422,
          -118.41356998309493,
          -118.29496999271214,
          -118.36137997917831,
          -118.22537999600172,
          -118.51854996755719,
          -118.3264700230211,
          -118.41651001945138,
          -118.12851000577211,
          -118.03686001338065,
          -118.10491997748613,
          -118.86079003103077,
          -118.21662995964289,
          -118.0180599913001,
          -118.07254001498222,
          -118.3402300067246,
          -118.09287996031344,
          -118.16134996712208,
          -118.32174003124237,
          -118.13160996884108,
          -118.06637001223862,
          -118.24076003395021,
          -118.55993997305632,
          -118.29158999025822,
          -118.34394997917116,
          -117.91127999313176,
          -118.07644003070891,
          -118.1849099881947,
          -118.51098001934588,
          -118.36337998509407,
          -118.5756400320679,
          -118.36924002505839,
          -118.46098003908992,
          -118.26211997307837,
          -118.6857100110501,
          -118.35780995897949,
          -118.02876996807754,
          -118.19301998242736,
          -118.41697001829743,
          -118.40621997602284,
          -118.31915999762714,
          -118.29159996472299,
          -118.28551998361945,
          -117.96035997569561,
          -118.07255996391177,
          -118.50343002006412,
          -118.40881995856762,
          -118.74089000746608,
          -118.30888998694718,
          -118.38349998928607,
          -118.40965999290347,
          -118.33997997455299,
          -118.1118000112474,
          -118.25377997942269,
          -118.4096500184387,
          -118.24567995965481,
          -118.2223800290376,
          -118.29152000136673,
          -118.13353001140058,
          -118.75386997126043,
          -118.92521996051073,
          -118.46756000071764,
          -118.32260001450777,
          -118.86067000217736,
          -117.98326998017728,
          -117.95339997857809,
          -118.26211997307837,
          -118.39095996692777,
          -118.13285996206105,
          -118.48220000043511,
          -118.23454996570945,
          -118.11978997662663,
          -118.62573003396392,
          -118.21454999037087,
          -118.44437004067004,
          -118.35046003572643,
          -118.39302996173501,
          -118.3901399653405,
          -118.42941001988947,
          -118.04089003242552,
          -118.55711996555328,
          -118.04335003718734,
          -118.35638000629842,
          -118.79194996319711,
          -118.44533999450505,
          -118.32913999445736,
          -118.2252599671483,
          -118.57881995849311,
          -118.41904001310468,
          -118.46100996248424,
          -118.39095996692777,
          -118.39151996187866,
          -118.75490999780595,
          -118.22468999773264,
          -118.52588002569973,
          -118.03784002549946,
          -118.35455995984375,
          -118.19619999267161,
          -118.32653003744781,
          -118.19661003537476,
          -118.1923699658364,
          -118.17906000651419,
          -117.99953003413975,
          -118.37007000111043,
          -118.03896998986602,
          -118.36754998192191,
          -118.1336999963969,
          -118.41540000401437,
          -118.41559002175927,
          -118.58090998604894,
          -118.554219994694,
          -118.37623002938926,
          -118.53930003941059,
          -118.91778999008238,
          -118.38381003588438,
          -118.44329003244638,
          -118.35231998004019,
          -118.32366996444762,
          -118.06709001772106,
          -118.29158999025822,
          -118.33232997916639,
          -118.37705003097653,
          -118.34584998898208,
          -118.36888002231717,
          -118.33980998955667,
          -118.22219998575747,
          -118.04943999275565,
          -118.33465998061001,
          -118.3727500308305,
          -118.32366996444762,
          -118.11187000013888,
          -118.15073998644948,
          -118.51945001631975,
          -118.2252100110054,
          -118.4827100392431,
          -118.41697001829743,
          -118.0794000159949,
          -118.19055000320077,
          -118.1812800373882,
          -118.2788400258869,
          -118.41068996116519,
          -118.11187000013888,
          -118.31781000830233,
          -118.26348002068698,
          -117.9614900238812,
          -118.03686001338065,
          -118.07717998512089,
          -118.59872002154589,
          -118.17052002064884,
          -118.25088998302817,
          -118.2129300199449,
          -118.5666200146079,
          -118.2129300199449,
          -118.19481002166867,
          -118.22738000191748,
          -118.07846996001899,
          -118.40644997544587,
          -118.1984900124371,
          -118.16366999410093,
          -118.35641001351178,
          -118.1118000112474,
          -118.18476003594697,
          -118.17165995948017,
          -118.20345997810364,
          -118.3294300083071,
          -118.0022200383246,
          -117.97079997137189,
          -118.3776800148189,
          -118.41234999708831,
          -118.190540028736,
          -118.81457003764808,
          -118.07369998656213,
          -118.25232999399304,
          -118.68771001696587,
          -118.80510997027159,
          -118.92678000032902,
          -118.34394997917116,
          -118.13160996884108,
          -118.17020997405052,
          -118.24618002399802,
          -118.19520003162324,
          -118.34396003745496,
          -118.33681999705732,
          -118.29149996861815,
          -118.02464003674686,
          -118.17804001271725,
          -117.85131996497512,
          -118.22545995935798,
          -118.33882000297308,
          -118.19330002181232,
          -118.36114000529051,
          -118.3901500236243,
          -118.39012001641095,
          -118.37007000111043,
          -118.53599002584815,
          -118.03784002549946,
          -118.37798997759819,
          -118.86458996683359,
          -118.26424000784755,
          -118.4096500184387,
          -118.02528996951878,
          -118.21769001893699,
          -118.25377997942269,
          -118.12585000880063,
          -118.25041003525257,
          -118.59161996282637,
          -118.17925002425909,
          -118.37748999707401,
          -118.45377000980079,
          -118.39226000010967,
          -118.7578500341624,
          -118.54030000045896,
          -118.25186999514699,
          -118.25354997999966,
          -118.18579000420868,
          -118.18710001185536,
          -118.12762001529336,
          -118.3323400374502,
          -118.13898000866175,
          -118.24670003727078,
          -118.38581004180014,
          -118.37919998914003,
          -118.19239997304976,
          -118.36101000197232,
          -118.74091004021466,
          -118.23929999023676,
          -117.97075998969376,
          -118.44552003778517,
          -118.39226000010967,
          -118.60428996384144,
          -118.00226002000272,
          -118.32218997180462,
          -118.06745002046227,
          -118.16094998270273,
          -118.18405997939408,
          -118.57470997609198,
          -118.37007000111043,
          -118.87108996510506,
          -118.57246002182364,
          -118.32647999748588,
          -118.34988000802696,
          -117.88633997552097,
          -117.6475299987942,
          -117.77148996479809,
          -117.83557003363967,
          -117.77432003058493,
          -117.73867003619671,
          -117.73254998959601,
          -117.80879002064466,
          -117.92359996587038,
          -117.82550001516938,
          -117.80935001559556,
          -117.74862002581358,
          -117.85698998719454,
          -117.87142999470234,
          -117.84917000681162,
          -117.7161399833858,
          -117.65064002014697,
          -117.65124997124076,
          -117.90415001101792,
          -117.72073997184634,
          -117.90067001245916,
          -117.87192000076175,
          -117.74767999537289,
          -117.87129001691937,
          -117.85807996988297,
          -117.83539996482432,
          -117.89439003914595,
          -117.85288997925818,
          -117.66003001481295,
          -117.85865002311766,
          -117.87048996426165,
          -117.8895400185138,
          -117.75073000229895,
          -117.85103003494442,
          -117.82005001790822,
          -117.68911002203822,
          -117.8509599622339,
          -117.65094000846148,
          -117.8628099616617,
          -117.89894996210933,
          -117.9039699677378,
          -117.74987999349833,
          -117.65058000572026,
          -117.69601000472903,
          -117.84491996280849,
          -117.87425000220537,
          -117.6857799757272,
          -117.74863000027835,
          -117.65060003846884,
          -117.77105997316539,
          -117.72864997386932,
          -117.8572700265795,
          -117.85055997781456,
          -117.67602000385523,
          -117.76183996349573,
          -117.85891002975404,
          -117.7914900239557,
          -117.84382998012006,
          -117.66472002491355,
          -117.90533998981118,
          -117.84526999108493,
          -117.8725599590689,
          -117.66069998033345,
          -117.85779003985226,
          -117.68085996620357,
          -117.65055997297168,
          -117.66744003631175,
          -117.90349999442697,
          -117.7711199875921,
          -117.77423998340964,
          -117.88616999052465,
          -117.83702999353409,
          -117.7640900015831,
          -117.83965000882745,
          -117.6980100106448,
          -117.68087002448738,
          -117.80934004113078,
          -117.66072001308203,
          -117.65083003789186,
          -117.90501996874809,
          -117.85827996209264,
          -117.92522999458015,
          -117.90543998591602,
          -117.92323996312916,
          -117.85288997925818,
          -117.82495996914804,
          -117.69680997356772,
          -117.87267998792231,
          -117.91098997928202,
          -117.9244000185281,
          -117.7624199911952,
          -117.80055002309382,
          -117.7498899679631
         ],
         "name": "",
         "radius": 10,
         "subplot": "mapbox",
         "type": "densitymapbox"
        }
       ],
       "layout": {
        "coloraxis": {
         "colorscale": [
          [
           0,
           "#0d0887"
          ],
          [
           0.1111111111111111,
           "#46039f"
          ],
          [
           0.2222222222222222,
           "#7201a8"
          ],
          [
           0.3333333333333333,
           "#9c179e"
          ],
          [
           0.4444444444444444,
           "#bd3786"
          ],
          [
           0.5555555555555556,
           "#d8576b"
          ],
          [
           0.6666666666666666,
           "#ed7953"
          ],
          [
           0.7777777777777778,
           "#fb9f3a"
          ],
          [
           0.8888888888888888,
           "#fdca26"
          ],
          [
           1,
           "#f0f921"
          ]
         ]
        },
        "legend": {
         "tracegroupgap": 0
        },
        "mapbox": {
         "center": {
          "lat": 34.02554918014045,
          "lon": -118.14563939037423
         },
         "domain": {
          "x": [
           0,
           1
          ],
          "y": [
           0,
           1
          ]
         },
         "style": "open-street-map",
         "zoom": 8
        },
        "margin": {
         "b": 0,
         "l": 0,
         "r": 0,
         "t": 0
        },
        "template": {
         "data": {
          "bar": [
           {
            "error_x": {
             "color": "#2a3f5f"
            },
            "error_y": {
             "color": "#2a3f5f"
            },
            "marker": {
             "line": {
              "color": "#E5ECF6",
              "width": 0.5
             },
             "pattern": {
              "fillmode": "overlay",
              "size": 10,
              "solidity": 0.2
             }
            },
            "type": "bar"
           }
          ],
          "barpolar": [
           {
            "marker": {
             "line": {
              "color": "#E5ECF6",
              "width": 0.5
             },
             "pattern": {
              "fillmode": "overlay",
              "size": 10,
              "solidity": 0.2
             }
            },
            "type": "barpolar"
           }
          ],
          "carpet": [
           {
            "aaxis": {
             "endlinecolor": "#2a3f5f",
             "gridcolor": "white",
             "linecolor": "white",
             "minorgridcolor": "white",
             "startlinecolor": "#2a3f5f"
            },
            "baxis": {
             "endlinecolor": "#2a3f5f",
             "gridcolor": "white",
             "linecolor": "white",
             "minorgridcolor": "white",
             "startlinecolor": "#2a3f5f"
            },
            "type": "carpet"
           }
          ],
          "choropleth": [
           {
            "colorbar": {
             "outlinewidth": 0,
             "ticks": ""
            },
            "type": "choropleth"
           }
          ],
          "contour": [
           {
            "colorbar": {
             "outlinewidth": 0,
             "ticks": ""
            },
            "colorscale": [
             [
              0,
              "#0d0887"
             ],
             [
              0.1111111111111111,
              "#46039f"
             ],
             [
              0.2222222222222222,
              "#7201a8"
             ],
             [
              0.3333333333333333,
              "#9c179e"
             ],
             [
              0.4444444444444444,
              "#bd3786"
             ],
             [
              0.5555555555555556,
              "#d8576b"
             ],
             [
              0.6666666666666666,
              "#ed7953"
             ],
             [
              0.7777777777777778,
              "#fb9f3a"
             ],
             [
              0.8888888888888888,
              "#fdca26"
             ],
             [
              1,
              "#f0f921"
             ]
            ],
            "type": "contour"
           }
          ],
          "contourcarpet": [
           {
            "colorbar": {
             "outlinewidth": 0,
             "ticks": ""
            },
            "type": "contourcarpet"
           }
          ],
          "heatmap": [
           {
            "colorbar": {
             "outlinewidth": 0,
             "ticks": ""
            },
            "colorscale": [
             [
              0,
              "#0d0887"
             ],
             [
              0.1111111111111111,
              "#46039f"
             ],
             [
              0.2222222222222222,
              "#7201a8"
             ],
             [
              0.3333333333333333,
              "#9c179e"
             ],
             [
              0.4444444444444444,
              "#bd3786"
             ],
             [
              0.5555555555555556,
              "#d8576b"
             ],
             [
              0.6666666666666666,
              "#ed7953"
             ],
             [
              0.7777777777777778,
              "#fb9f3a"
             ],
             [
              0.8888888888888888,
              "#fdca26"
             ],
             [
              1,
              "#f0f921"
             ]
            ],
            "type": "heatmap"
           }
          ],
          "heatmapgl": [
           {
            "colorbar": {
             "outlinewidth": 0,
             "ticks": ""
            },
            "colorscale": [
             [
              0,
              "#0d0887"
             ],
             [
              0.1111111111111111,
              "#46039f"
             ],
             [
              0.2222222222222222,
              "#7201a8"
             ],
             [
              0.3333333333333333,
              "#9c179e"
             ],
             [
              0.4444444444444444,
              "#bd3786"
             ],
             [
              0.5555555555555556,
              "#d8576b"
             ],
             [
              0.6666666666666666,
              "#ed7953"
             ],
             [
              0.7777777777777778,
              "#fb9f3a"
             ],
             [
              0.8888888888888888,
              "#fdca26"
             ],
             [
              1,
              "#f0f921"
             ]
            ],
            "type": "heatmapgl"
           }
          ],
          "histogram": [
           {
            "marker": {
             "pattern": {
              "fillmode": "overlay",
              "size": 10,
              "solidity": 0.2
             }
            },
            "type": "histogram"
           }
          ],
          "histogram2d": [
           {
            "colorbar": {
             "outlinewidth": 0,
             "ticks": ""
            },
            "colorscale": [
             [
              0,
              "#0d0887"
             ],
             [
              0.1111111111111111,
              "#46039f"
             ],
             [
              0.2222222222222222,
              "#7201a8"
             ],
             [
              0.3333333333333333,
              "#9c179e"
             ],
             [
              0.4444444444444444,
              "#bd3786"
             ],
             [
              0.5555555555555556,
              "#d8576b"
             ],
             [
              0.6666666666666666,
              "#ed7953"
             ],
             [
              0.7777777777777778,
              "#fb9f3a"
             ],
             [
              0.8888888888888888,
              "#fdca26"
             ],
             [
              1,
              "#f0f921"
             ]
            ],
            "type": "histogram2d"
           }
          ],
          "histogram2dcontour": [
           {
            "colorbar": {
             "outlinewidth": 0,
             "ticks": ""
            },
            "colorscale": [
             [
              0,
              "#0d0887"
             ],
             [
              0.1111111111111111,
              "#46039f"
             ],
             [
              0.2222222222222222,
              "#7201a8"
             ],
             [
              0.3333333333333333,
              "#9c179e"
             ],
             [
              0.4444444444444444,
              "#bd3786"
             ],
             [
              0.5555555555555556,
              "#d8576b"
             ],
             [
              0.6666666666666666,
              "#ed7953"
             ],
             [
              0.7777777777777778,
              "#fb9f3a"
             ],
             [
              0.8888888888888888,
              "#fdca26"
             ],
             [
              1,
              "#f0f921"
             ]
            ],
            "type": "histogram2dcontour"
           }
          ],
          "mesh3d": [
           {
            "colorbar": {
             "outlinewidth": 0,
             "ticks": ""
            },
            "type": "mesh3d"
           }
          ],
          "parcoords": [
           {
            "line": {
             "colorbar": {
              "outlinewidth": 0,
              "ticks": ""
             }
            },
            "type": "parcoords"
           }
          ],
          "pie": [
           {
            "automargin": true,
            "type": "pie"
           }
          ],
          "scatter": [
           {
            "fillpattern": {
             "fillmode": "overlay",
             "size": 10,
             "solidity": 0.2
            },
            "type": "scatter"
           }
          ],
          "scatter3d": [
           {
            "line": {
             "colorbar": {
              "outlinewidth": 0,
              "ticks": ""
             }
            },
            "marker": {
             "colorbar": {
              "outlinewidth": 0,
              "ticks": ""
             }
            },
            "type": "scatter3d"
           }
          ],
          "scattercarpet": [
           {
            "marker": {
             "colorbar": {
              "outlinewidth": 0,
              "ticks": ""
             }
            },
            "type": "scattercarpet"
           }
          ],
          "scattergeo": [
           {
            "marker": {
             "colorbar": {
              "outlinewidth": 0,
              "ticks": ""
             }
            },
            "type": "scattergeo"
           }
          ],
          "scattergl": [
           {
            "marker": {
             "colorbar": {
              "outlinewidth": 0,
              "ticks": ""
             }
            },
            "type": "scattergl"
           }
          ],
          "scattermapbox": [
           {
            "marker": {
             "colorbar": {
              "outlinewidth": 0,
              "ticks": ""
             }
            },
            "type": "scattermapbox"
           }
          ],
          "scatterpolar": [
           {
            "marker": {
             "colorbar": {
              "outlinewidth": 0,
              "ticks": ""
             }
            },
            "type": "scatterpolar"
           }
          ],
          "scatterpolargl": [
           {
            "marker": {
             "colorbar": {
              "outlinewidth": 0,
              "ticks": ""
             }
            },
            "type": "scatterpolargl"
           }
          ],
          "scatterternary": [
           {
            "marker": {
             "colorbar": {
              "outlinewidth": 0,
              "ticks": ""
             }
            },
            "type": "scatterternary"
           }
          ],
          "surface": [
           {
            "colorbar": {
             "outlinewidth": 0,
             "ticks": ""
            },
            "colorscale": [
             [
              0,
              "#0d0887"
             ],
             [
              0.1111111111111111,
              "#46039f"
             ],
             [
              0.2222222222222222,
              "#7201a8"
             ],
             [
              0.3333333333333333,
              "#9c179e"
             ],
             [
              0.4444444444444444,
              "#bd3786"
             ],
             [
              0.5555555555555556,
              "#d8576b"
             ],
             [
              0.6666666666666666,
              "#ed7953"
             ],
             [
              0.7777777777777778,
              "#fb9f3a"
             ],
             [
              0.8888888888888888,
              "#fdca26"
             ],
             [
              1,
              "#f0f921"
             ]
            ],
            "type": "surface"
           }
          ],
          "table": [
           {
            "cells": {
             "fill": {
              "color": "#EBF0F8"
             },
             "line": {
              "color": "white"
             }
            },
            "header": {
             "fill": {
              "color": "#C8D4E3"
             },
             "line": {
              "color": "white"
             }
            },
            "type": "table"
           }
          ]
         },
         "layout": {
          "annotationdefaults": {
           "arrowcolor": "#2a3f5f",
           "arrowhead": 0,
           "arrowwidth": 1
          },
          "autotypenumbers": "strict",
          "coloraxis": {
           "colorbar": {
            "outlinewidth": 0,
            "ticks": ""
           }
          },
          "colorscale": {
           "diverging": [
            [
             0,
             "#8e0152"
            ],
            [
             0.1,
             "#c51b7d"
            ],
            [
             0.2,
             "#de77ae"
            ],
            [
             0.3,
             "#f1b6da"
            ],
            [
             0.4,
             "#fde0ef"
            ],
            [
             0.5,
             "#f7f7f7"
            ],
            [
             0.6,
             "#e6f5d0"
            ],
            [
             0.7,
             "#b8e186"
            ],
            [
             0.8,
             "#7fbc41"
            ],
            [
             0.9,
             "#4d9221"
            ],
            [
             1,
             "#276419"
            ]
           ],
           "sequential": [
            [
             0,
             "#0d0887"
            ],
            [
             0.1111111111111111,
             "#46039f"
            ],
            [
             0.2222222222222222,
             "#7201a8"
            ],
            [
             0.3333333333333333,
             "#9c179e"
            ],
            [
             0.4444444444444444,
             "#bd3786"
            ],
            [
             0.5555555555555556,
             "#d8576b"
            ],
            [
             0.6666666666666666,
             "#ed7953"
            ],
            [
             0.7777777777777778,
             "#fb9f3a"
            ],
            [
             0.8888888888888888,
             "#fdca26"
            ],
            [
             1,
             "#f0f921"
            ]
           ],
           "sequentialminus": [
            [
             0,
             "#0d0887"
            ],
            [
             0.1111111111111111,
             "#46039f"
            ],
            [
             0.2222222222222222,
             "#7201a8"
            ],
            [
             0.3333333333333333,
             "#9c179e"
            ],
            [
             0.4444444444444444,
             "#bd3786"
            ],
            [
             0.5555555555555556,
             "#d8576b"
            ],
            [
             0.6666666666666666,
             "#ed7953"
            ],
            [
             0.7777777777777778,
             "#fb9f3a"
            ],
            [
             0.8888888888888888,
             "#fdca26"
            ],
            [
             1,
             "#f0f921"
            ]
           ]
          },
          "colorway": [
           "#636efa",
           "#EF553B",
           "#00cc96",
           "#ab63fa",
           "#FFA15A",
           "#19d3f3",
           "#FF6692",
           "#B6E880",
           "#FF97FF",
           "#FECB52"
          ],
          "font": {
           "color": "#2a3f5f"
          },
          "geo": {
           "bgcolor": "white",
           "lakecolor": "white",
           "landcolor": "#E5ECF6",
           "showlakes": true,
           "showland": true,
           "subunitcolor": "white"
          },
          "hoverlabel": {
           "align": "left"
          },
          "hovermode": "closest",
          "mapbox": {
           "style": "light"
          },
          "paper_bgcolor": "white",
          "plot_bgcolor": "#E5ECF6",
          "polar": {
           "angularaxis": {
            "gridcolor": "white",
            "linecolor": "white",
            "ticks": ""
           },
           "bgcolor": "#E5ECF6",
           "radialaxis": {
            "gridcolor": "white",
            "linecolor": "white",
            "ticks": ""
           }
          },
          "scene": {
           "xaxis": {
            "backgroundcolor": "#E5ECF6",
            "gridcolor": "white",
            "gridwidth": 2,
            "linecolor": "white",
            "showbackground": true,
            "ticks": "",
            "zerolinecolor": "white"
           },
           "yaxis": {
            "backgroundcolor": "#E5ECF6",
            "gridcolor": "white",
            "gridwidth": 2,
            "linecolor": "white",
            "showbackground": true,
            "ticks": "",
            "zerolinecolor": "white"
           },
           "zaxis": {
            "backgroundcolor": "#E5ECF6",
            "gridcolor": "white",
            "gridwidth": 2,
            "linecolor": "white",
            "showbackground": true,
            "ticks": "",
            "zerolinecolor": "white"
           }
          },
          "shapedefaults": {
           "line": {
            "color": "#2a3f5f"
           }
          },
          "ternary": {
           "aaxis": {
            "gridcolor": "white",
            "linecolor": "white",
            "ticks": ""
           },
           "baxis": {
            "gridcolor": "white",
            "linecolor": "white",
            "ticks": ""
           },
           "bgcolor": "#E5ECF6",
           "caxis": {
            "gridcolor": "white",
            "linecolor": "white",
            "ticks": ""
           }
          },
          "title": {
           "x": 0.05
          },
          "xaxis": {
           "automargin": true,
           "gridcolor": "white",
           "linecolor": "white",
           "ticks": "",
           "title": {
            "standoff": 15
           },
           "zerolinecolor": "white",
           "zerolinewidth": 2
          },
          "yaxis": {
           "automargin": true,
           "gridcolor": "white",
           "linecolor": "white",
           "ticks": "",
           "title": {
            "standoff": 15
           },
           "zerolinecolor": "white",
           "zerolinewidth": 2
          }
         }
        }
       }
      }
     },
     "metadata": {},
     "output_type": "display_data"
    }
   ],
   "source": [
    "data = get_county_incidents(conn, \"los angeles\")\n",
    "td.incident_heatmap(data, radius=10)"
   ]
  }
 ],
 "metadata": {
  "kernelspec": {
   "display_name": "base",
   "language": "python",
   "name": "python3"
  },
  "language_info": {
   "codemirror_mode": {
    "name": "ipython",
    "version": 3
   },
   "file_extension": ".py",
   "mimetype": "text/x-python",
   "name": "python",
   "nbconvert_exporter": "python",
   "pygments_lexer": "ipython3",
   "version": "3.9.13"
  },
  "orig_nbformat": 4
 },
 "nbformat": 4,
 "nbformat_minor": 2
}
