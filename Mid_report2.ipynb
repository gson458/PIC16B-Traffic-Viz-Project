{
 "cells": [
  {
   "attachments": {},
   "cell_type": "markdown",
   "metadata": {},
   "source": [
    "# Updated functions"
   ]
  },
  {
   "attachments": {},
   "cell_type": "markdown",
   "metadata": {},
   "source": [
    "`update` removes incidents from the table that have an endtime 5 hours before the current time.\n",
    "\n",
    "`insert_data` now removes duplicate incidents before appending remaining incidents to the table."
   ]
  },
  {
   "cell_type": "code",
   "execution_count": null,
   "metadata": {},
   "outputs": [],
   "source": [
    "from datetime import datetime, timedelta\n",
    "\n",
    "def update(conn):\n",
    "    \"\"\"Updates incidents table by removing incidents with end times five hours before current time\"\"\"\n",
    "    cutoffTime = datetime.now() + timedelta(hours=5)\n",
    "    cursor = conn.cursor()\n",
    "    cmd=\\\n",
    "    f\"\"\"\n",
    "    DELETE FROM incidents\n",
    "    WHERE endDatetime < '{cutoffTime.strftime('%Y-%m-%d %H:%M:%S')}'\n",
    "    \"\"\"\n",
    "    cursor.execute(cmd)\n",
    "\n",
    "def insert_data(conn, data):\n",
    "    \"\"\"Inserts new traffic data into incidents table in database\"\"\"\n",
    "\n",
    "    if len(data) > 0:\n",
    "        data['endDatetime'] = data['endTime'].apply(lambda x: datetime.strptime(x, \"%Y-%m-%dT%H:%M:%S\"))\n",
    "        data.to_sql(\"intermediate\", conn, if_exists=\"append\", index=False)\n",
    "        cursor = conn.cursor()\n",
    "        cmd=\\\n",
    "        \"\"\"\n",
    "        INSERT INTO incidents\n",
    "        SELECT * from intermediate\n",
    "        WHERE id NOT IN (SELECT id FROM intermediate)\n",
    "        \"\"\"\n",
    "        cursor.execute(cmd)\n",
    "        cmd = \"DROP TABLE intermediate\"\n",
    "        cursor.execute(cmd)"
   ]
  }
 ],
 "metadata": {
  "language_info": {
   "name": "python"
  },
  "orig_nbformat": 4
 },
 "nbformat": 4,
 "nbformat_minor": 2
}
