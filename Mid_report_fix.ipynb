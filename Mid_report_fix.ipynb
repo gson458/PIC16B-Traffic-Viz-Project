{
 "cells": [
  {
   "cell_type": "code",
   "execution_count": 31,
   "id": "2c2ee3de",
   "metadata": {},
   "outputs": [],
   "source": [
    "import requests\n",
    "import json\n",
    "import sqlite3\n",
    "import time\n",
    "import folium\n",
    "import pandas as pd\n",
    "\n",
    "#create our own database\n",
    "conn = sqlite3.connect('traffic_data.db')  \n",
    "c = conn.cursor()\n",
    "#creates a table anmed \"incidents\" if it doesn't already exist\n",
    "#the table has columns for incdient details such as ID,type, severity, description, latitude, longitude \n",
    "c.execute(\"CREATE TABLE IF NOT EXISTS incidents (id INTEGER PRIMARY KEY, type TEXT, severity INTEGER, description TEXT, lat REAL, lng REAL)\")\n",
    "conn.commit()\n",
    "conn.close()\n",
    "\n",
    "def insert_data(data):\n",
    "    #defined to insert incident data inot the \"incidents\" table\n",
    "    conn = sqlite3.connect('traffic_data.db')\n",
    "    c = conn.cursor()\n",
    "    #takes a list of data tuples as input and insert multiple rows into the table at once\n",
    "    c.executemany(\"INSERT INTO incidents (id, type, severity, description, lat, lng) VALUES (?, ?, ?, ?, ?, ?)\", data)\n",
    "    conn.commit()\n",
    "    conn.close()\n",
    "\n",
    "def get_traffic_data(bbox):\n",
    "    #retrieves traffic incident data from MapQuest Traffic API\n",
    "    key = \"\"\n",
    "    response = requests.get(f\"https://www.mapquestapi.com/traffic/v2/incidents?key={key}&boundingBox={bbox}&filters=congestion,incidents,construction,event\")\n",
    "    data = response.json()\n",
    "    return data\n",
    "\n",
    "def store_traffic_data():\n",
    "    #store traffic incident data in the database. \n",
    "    bbox_step = 0.1  # Bbox step size for iterating over the U.S. \n",
    "    bbox_range = {\n",
    "        # Starting latitude for bbox\n",
    "        \"lat_start\": 24.396308,  #southernmost\n",
    "        # Ending latitude for bbox\n",
    "        \"lat_end\": 49.384358,    #northernmost\n",
    "        # Starting longitude for bbox\n",
    "        \"lng_start\": -125.000000,  #westernmost\n",
    "        # Ending longitude for bbox\n",
    "        \"lng_end\": -66.934570    #easternmost\n",
    "    }\n",
    "    create_table()\n",
    "    bbox = {\n",
    "        \"lat_start\": bbox_range[\"lat_start\"],\n",
    "        \"lat_end\": bbox_range[\"lat_start\"] + bbox_step,\n",
    "        \"lng_start\": bbox_range[\"lng_start\"],\n",
    "        \"lng_end\": bbox_range[\"lng_start\"] + bbox_step\n",
    "    }\n",
    "    page = 1\n",
    "    # a loop that continues until the latitude of the current \n",
    "    #bounding box exceeds the northernmost latitude of the bbox_range.\n",
    "    while bbox[\"lat_start\"] <= bbox_range[\"lat_end\"]:\n",
    "        #to fetch traffic incident data for the current bounding box\n",
    "        response_data = get_traffic_data(f\"{bbox['lat_start']},{bbox['lng_start']},{bbox['lat_end']},{bbox['lng_end']}\")\n",
    "        incidents = response_data.get(\"incidents\")\n",
    "        if not incidents:\n",
    "            break\n",
    "            #If there are no incidents, it breaks out of the loop, assuming that there is no more data to retrieve.\n",
    "        data = []\n",
    "        #extracting relevant information from each incident and storing it as a tuple in the data list\n",
    "        for incident in incidents:\n",
    "            incident_id = incident.get(\"id\")\n",
    "            incident_type = incident.get(\"type\")\n",
    "            incident_severity = incident.get(\"severity\")\n",
    "            incident_description = incident.get(\"shortDesc\")\n",
    "            incident_lat = incident.get(\"lat\")\n",
    "            incident_lng = incident.get(\"lng\")\n",
    "            data.append((incident_id, incident_type, incident_severity, incident_description, incident_lat, incident_lng))\n",
    "        #inserting the incident data into the database.\n",
    "        insert_data(data)\n",
    "        print(f\"Page {page} processed.\")\n",
    "        page += 1\n",
    "        #the longitude values of the bounding box are updated by adding the bbox_step \n",
    "        #value to both the starting and ending longitudes\n",
    "        bbox[\"lng_start\"] += bbox_step\n",
    "        bbox[\"lng_end\"] += bbox_step\n",
    "        #If the updated longitude exceeds the easternmost longitude of the bbox_range, \n",
    "        #the latitude values are updated, and the longitude values are reset to the starting values\n",
    "        if bbox[\"lng_start\"] > bbox_range[\"lng_end\"]:\n",
    "            bbox[\"lat_start\"] += bbox_step\n",
    "            bbox[\"lat_end\"] += bbox_step\n",
    "            bbox[\"lng_start\"] = bbox_range[\"lng_start\"]\n",
    "            bbox[\"lng_end\"] = bbox_range[\"lng_start\"] + bbox_step\n",
    "        time.sleep(1)  # Sleep for 1 second to avoid hitting API rate limits\n",
    "\n",
    "def get_incidents_in_area(bbox):\n",
    "    conn = sqlite3.connect('traffic_data.db')\n",
    "    c = conn.cursor()\n",
    "    c.execute(\"SELECT * FROM incidents WHERE lat BETWEEN ? AND ? AND lng BETWEEN ? AND ?\", bbox)\n",
    "    incidents = c.fetchall()\n",
    "    conn.close()\n",
    "    return incidents\n",
    "\n",
    "def display_map_with_incidents(incidents):\n",
    "    # Create an empty map centered around the first incident\n",
    "    \n",
    "    if incidents:\n",
    "        center_lat, center_lng = incidents[0][4], incidents[0][5]\n",
    "        #[0]: incident; [4]: latitude; [5]: longitude\n",
    "    else:\n",
    "        center_lat, center_lng = 0, 0\n",
    "    map_traffic = folium.Map(location=[center_lat, center_lng], zoom_start=10)\n",
    "\n",
    "    # Add markers for each incident\n",
    "    for incident in incidents:\n",
    "        #the location parameter set to [incident_lat, incident_lng], \n",
    "        #representing the coordinates of the incident\n",
    "        incident_lat, incident_lng = incident[4], incident[5]\n",
    "        marker = folium.Marker(location=[incident_lat, incident_lng])\n",
    "        marker.add_to(map_traffic)\n",
    "\n",
    "    return map_traffic\n",
    "\n"
   ]
  },
  {
   "attachments": {},
   "cell_type": "markdown",
   "id": "967747b0",
   "metadata": {},
   "source": [
    "# Modified for dataframes (and plotlyexpress)"
   ]
  },
  {
   "cell_type": "code",
   "execution_count": 14,
   "id": "5a66d40e",
   "metadata": {},
   "outputs": [],
   "source": [
    "import requests\n",
    "import json\n",
    "import sqlite3\n",
    "import time\n",
    "import folium\n",
    "import pandas as pd\n",
    "from plotly import express as px\n",
    "\n",
    "#create our own database\n",
    "conn = sqlite3.connect('traffic_data.db')  \n",
    "# c = conn.cursor()\n",
    "# #creates a table anmed \"incidents\" if it doesn't already exist\n",
    "# #the table has columns for incdient details such as ID,type, severity, description, latitude, longitude \n",
    "# c.execute(\"CREATE TABLE IF NOT EXISTS incidents (id INTEGER PRIMARY KEY, type TEXT, severity INTEGER, description TEXT, lat REAL, lng REAL)\")\n",
    "# conn.commit()\n",
    "conn.close()\n",
    "\n",
    "def insert_data(conn, data):\n",
    "    #defined to insert incident data inot the \"incidents\" table\n",
    "    if len(data) > 0:\n",
    "        data.to_sql(\"incidents\", conn, if_exists=\"append\", index=False)\n",
    "\n",
    "def get_traffic_data(bbox):\n",
    "    #retrieves traffic incident data from MapQuest Traffic API\n",
    "    # key = \"\"\n",
    "    response = requests.get(f\"https://www.mapquestapi.com/traffic/v2/incidents?key={key}&boundingBox={bbox}&filters=congestion,incidents,construction,event\")\n",
    "    data = pd.DataFrame(response.json()[\"incidents\"])\n",
    "    if len(data) > 0:\n",
    "        data = data[['id', 'type', 'severity', 'shortDesc', 'lat', 'lng']]\n",
    "    return data\n",
    "\n",
    "def store_traffic_data(conn, lat_start, lat_end, lng_start, lng_end):\n",
    "    #store traffic incident data in the database. \n",
    "    bbox_step = 1  # Bbox step size for iterating over the U.S. \n",
    "    bbox_range = {\n",
    "        # Starting latitude for bbox\n",
    "        \"lat_start\": lat_start, # 24.396308,  #southernmost\n",
    "        # Ending latitude for bbox\n",
    "        \"lat_end\": lat_end, # 49.384358,    #northernmost\n",
    "        # Starting longitude for bbox\n",
    "        \"lng_start\": lng_start, # -125.000000,  #westernmost\n",
    "        # Ending longitude for bbox\n",
    "        \"lng_end\": lng_end # -66.934570    #easternmost\n",
    "    }\n",
    "    # create_table()\n",
    "    bbox = {\n",
    "        \"lat_start\": bbox_range[\"lat_start\"],\n",
    "        \"lat_end\": bbox_range[\"lat_start\"] + bbox_step,\n",
    "        \"lng_start\": bbox_range[\"lng_start\"],\n",
    "        \"lng_end\": bbox_range[\"lng_start\"] + bbox_step\n",
    "    }\n",
    "    page = 1\n",
    "    # a loop that continues until the latitude of the current \n",
    "    #bounding box exceeds the northernmost latitude of the bbox_range.\n",
    "    while bbox[\"lat_start\"] <= bbox_range[\"lat_end\"]:\n",
    "        #to fetch traffic incident data for the current bounding box\n",
    "        data = get_traffic_data(f\"{bbox['lat_start']},{bbox['lng_start']},{bbox['lat_end']},{bbox['lng_end']}\")\n",
    "        insert_data(conn, data)\n",
    "        print(f\"Page {page} processed.\")\n",
    "        page += 1\n",
    "        #the longitude values of the bounding box are updated by adding the bbox_step \n",
    "        #value to both the starting and ending longitudes\n",
    "        bbox[\"lng_start\"] += bbox_step\n",
    "        bbox[\"lng_end\"] += bbox_step\n",
    "        #If the updated longitude exceeds the easternmost longitude of the bbox_range, \n",
    "        #the latitude values are updated, and the longitude values are reset to the starting values\n",
    "        if bbox[\"lng_start\"] > bbox_range[\"lng_end\"]:\n",
    "            bbox[\"lat_start\"] += bbox_step\n",
    "            bbox[\"lat_end\"] += bbox_step\n",
    "            bbox[\"lng_start\"] = bbox_range[\"lng_start\"]\n",
    "            bbox[\"lng_end\"] = bbox_range[\"lng_start\"] + bbox_step\n",
    "        time.sleep(1)  # Sleep for 1 second to avoid hitting API rate limits\n",
    "\n",
    "def get_incidents_in_area(conn, bbox):\n",
    "    # conn = sqlite3.connect('traffic_data.db')\n",
    "    # c = conn.cursor()\n",
    "    # c.execute(\"SELECT * FROM incidents WHERE lat BETWEEN ? AND ? AND lng BETWEEN ? AND ?\", bbox)\n",
    "    # incidents = c.fetchall()\n",
    "    # conn.close()\n",
    "    min_lat, max_lat = bbox[0], bbox[1]\n",
    "    min_lng, max_lng = bbox[2], bbox[3]\n",
    "    cmd=\\\n",
    "        f\"\"\"\n",
    "            SELECT * FROM incidents\n",
    "            WHERE lat BETWEEN {min_lat} AND {max_lat}\n",
    "            AND lng BETWEEN {min_lng} AND {max_lng}\n",
    "        \"\"\"\n",
    "    print(cmd)\n",
    "    df = pd.read_sql_query(cmd, conn)\n",
    "    return df\n",
    "\n",
    "def display_map_with_incidents(incidents, **kwargs):\n",
    "    # Create an empty map centered around the first incident\n",
    "    \n",
    "    try:\n",
    "        center_lat, center_lng = incidents['lat'][0], incidents['lng'][0]\n",
    "        #[0]: incident; [4]: latitude; [5]: longitude\n",
    "    except:\n",
    "        print(\"data frame error?\")\n",
    "        center_lat, center_lng = 0, 0\n",
    "    # map_traffic = folium.Map(location=[center_lat, center_lng], zoom_start=10)\n",
    "\n",
    "    fig = px.scatter_mapbox(incidents,\n",
    "                            lat=\"lat\",\n",
    "                            lon=\"lng\",\n",
    "                            color=\"severity\",\n",
    "                            hover_name=\"id\",\n",
    "                            hover_data=['shortDesc', 'type'],\n",
    "                            mapbox_style=\"open-street-map\",\n",
    "                            **kwargs)\n",
    "    fig.update_layout(margin={\"r\":0, \"l\":0,\"b\":0,\"t\":0})\n",
    "    return fig\n",
    "\n",
    "    # Add markers for each incident\n",
    "    # for incident in incidents:\n",
    "    #     #the location parameter set to [incident_lat, incident_lng], \n",
    "    #     #representing the coordinates of the incident\n",
    "    #     incident_lat, incident_lng = incident[4], incident[5]\n",
    "    #     marker = folium.Marker(location=[incident_lat, incident_lng])\n",
    "    #     marker.add_to(map_traffic)\n",
    "\n",
    "    # return map_traffic\n",
    "\n"
   ]
  },
  {
   "cell_type": "code",
   "execution_count": 3,
   "id": "104e2a51",
   "metadata": {},
   "outputs": [
    {
     "data": {
      "text/html": [
       "<div>\n",
       "<style scoped>\n",
       "    .dataframe tbody tr th:only-of-type {\n",
       "        vertical-align: middle;\n",
       "    }\n",
       "\n",
       "    .dataframe tbody tr th {\n",
       "        vertical-align: top;\n",
       "    }\n",
       "\n",
       "    .dataframe thead th {\n",
       "        text-align: right;\n",
       "    }\n",
       "</style>\n",
       "<table border=\"1\" class=\"dataframe\">\n",
       "  <thead>\n",
       "    <tr style=\"text-align: right;\">\n",
       "      <th></th>\n",
       "      <th>NAME</th>\n",
       "      <th>STUSPS</th>\n",
       "      <th>min_lng</th>\n",
       "      <th>min_lat</th>\n",
       "      <th>max_lng</th>\n",
       "      <th>max_lat</th>\n",
       "    </tr>\n",
       "  </thead>\n",
       "  <tbody>\n",
       "    <tr>\n",
       "      <th>0</th>\n",
       "      <td>Alabama</td>\n",
       "      <td>AL</td>\n",
       "      <td>-88.473227</td>\n",
       "      <td>30.223334</td>\n",
       "      <td>-84.889080</td>\n",
       "      <td>35.008028</td>\n",
       "    </tr>\n",
       "    <tr>\n",
       "      <th>1</th>\n",
       "      <td>Alaska</td>\n",
       "      <td>AK</td>\n",
       "      <td>-179.148909</td>\n",
       "      <td>51.214183</td>\n",
       "      <td>179.778470</td>\n",
       "      <td>71.365162</td>\n",
       "    </tr>\n",
       "    <tr>\n",
       "      <th>2</th>\n",
       "      <td>American Samoa</td>\n",
       "      <td>AS</td>\n",
       "      <td>-171.089874</td>\n",
       "      <td>-14.548699</td>\n",
       "      <td>-168.143300</td>\n",
       "      <td>-11.046934</td>\n",
       "    </tr>\n",
       "    <tr>\n",
       "      <th>3</th>\n",
       "      <td>Arizona</td>\n",
       "      <td>AZ</td>\n",
       "      <td>-114.816510</td>\n",
       "      <td>31.332177</td>\n",
       "      <td>-109.045223</td>\n",
       "      <td>37.004260</td>\n",
       "    </tr>\n",
       "    <tr>\n",
       "      <th>4</th>\n",
       "      <td>Arkansas</td>\n",
       "      <td>AR</td>\n",
       "      <td>-94.617919</td>\n",
       "      <td>33.004106</td>\n",
       "      <td>-89.644395</td>\n",
       "      <td>36.499600</td>\n",
       "    </tr>\n",
       "  </tbody>\n",
       "</table>\n",
       "</div>"
      ],
      "text/plain": [
       "             NAME STUSPS     min_lng    min_lat     max_lng    max_lat\n",
       "0         Alabama     AL  -88.473227  30.223334  -84.889080  35.008028\n",
       "1          Alaska     AK -179.148909  51.214183  179.778470  71.365162\n",
       "2  American Samoa     AS -171.089874 -14.548699 -168.143300 -11.046934\n",
       "3         Arizona     AZ -114.816510  31.332177 -109.045223  37.004260\n",
       "4        Arkansas     AR  -94.617919  33.004106  -89.644395  36.499600"
      ]
     },
     "execution_count": 3,
     "metadata": {},
     "output_type": "execute_result"
    }
   ],
   "source": [
    "state_bounds = pd.read_csv(\"https://gist.githubusercontent.com/a8dx/2340f9527af64f8ef8439366de981168/raw/81d876daea10eab5c2675811c39bcd18a79a9212/US_State_Bounding_Boxes.csv\")\n",
    "state_bounds = state_bounds[['NAME', 'STUSPS', 'xmin', 'ymin', 'xmax', 'ymax']]\n",
    "state_bounds = state_bounds.rename(columns={\"xmin\": \"min_lng\", \"xmax\": \"max_lng\", \"ymin\": \"min_lat\", \"ymax\": \"max_lat\"})\n",
    "state_bounds.head(5)"
   ]
  },
  {
   "cell_type": "code",
   "execution_count": 10,
   "id": "6eff24dc",
   "metadata": {},
   "outputs": [
    {
     "data": {
      "text/plain": [
       "(41.237964, 42.886589, -73.508142, -69.928393)"
      ]
     },
     "execution_count": 10,
     "metadata": {},
     "output_type": "execute_result"
    }
   ],
   "source": [
    "ma_minlat = state_bounds.loc[state_bounds['STUSPS']==\"MA\"]['min_lat'].values[0]\n",
    "ma_maxlat = state_bounds.loc[state_bounds['STUSPS']==\"MA\"]['max_lat'].values[0]\n",
    "ma_minlng = state_bounds.loc[state_bounds['STUSPS']==\"MA\"]['min_lng'].values[0]\n",
    "ma_maxlng = state_bounds.loc[state_bounds['STUSPS']==\"MA\"]['max_lng'].values[0]\n",
    "ma_minlat, ma_maxlat, ma_minlng, ma_maxlng"
   ]
  },
  {
   "cell_type": "code",
   "execution_count": 11,
   "id": "9c88b100",
   "metadata": {},
   "outputs": [
    {
     "name": "stdout",
     "output_type": "stream",
     "text": [
      "Page 1 processed.\n",
      "Page 2 processed.\n",
      "Page 3 processed.\n",
      "Page 4 processed.\n",
      "Page 5 processed.\n",
      "Page 6 processed.\n",
      "Page 7 processed.\n",
      "Page 8 processed.\n"
     ]
    }
   ],
   "source": [
    "import credentials as cred\n",
    "key = cred.mapquest_api_key\n",
    "store_traffic_data(lat_start=ma_minlat, lat_end=ma_maxlat, lng_start=ma_minlng, lng_end=ma_maxlng)"
   ]
  },
  {
   "cell_type": "code",
   "execution_count": 15,
   "id": "9aa987f3",
   "metadata": {},
   "outputs": [
    {
     "name": "stdout",
     "output_type": "stream",
     "text": [
      "\n",
      "            SELECT * FROM incidents\n",
      "            WHERE lat BETWEEN 41.237964 AND 42.886589\n",
      "            AND lng BETWEEN -73.508142 AND -69.928393\n",
      "        \n",
      "                    id  type  severity                      shortDesc   \n",
      "0  4405418776464707010     1         1              Construction work  \\\n",
      "1   533119548599105528     1         1  Bridge maintenance operations   \n",
      "2   505275340163207417     1         1              Road construction   \n",
      "3  4453299463648210620     1         1              Construction work   \n",
      "4  2509738909818101436     1         1              Road construction   \n",
      "\n",
      "        lat       lng  \n",
      "0  41.53979 -72.77216  \n",
      "1  41.31785 -72.90188  \n",
      "2  41.25740 -73.21953  \n",
      "3  41.56791 -72.65059  \n",
      "4  41.30297 -72.60386  \n"
     ]
    },
    {
     "data": {
      "application/vnd.plotly.v1+json": {
       "config": {
        "plotlyServerURL": "https://plot.ly"
       },
       "data": [
        {
         "customdata": [
          [
           "Construction work",
           1
          ],
          [
           "Bridge maintenance operations",
           1
          ],
          [
           "Road construction",
           1
          ],
          [
           "Construction work",
           1
          ],
          [
           "Road construction",
           1
          ],
          [
           "Closed due to road construction",
           1
          ],
          [
           "Road construction",
           1
          ],
          [
           "Construction work",
           1
          ],
          [
           "Road construction",
           1
          ],
          [
           "Construction work",
           1
          ],
          [
           "Bridge maintenance operations",
           1
          ],
          [
           "Road construction",
           1
          ],
          [
           "Road construction",
           1
          ],
          [
           "Road construction",
           1
          ],
          [
           "Road construction",
           1
          ],
          [
           "Closed",
           4
          ],
          [
           "Closed",
           4
          ],
          [
           "Road construction",
           1
          ],
          [
           "Construction work",
           1
          ],
          [
           "Stop and go traffic. Approach with care",
           3
          ],
          [
           "Construction work",
           1
          ],
          [
           "Closed",
           4
          ],
          [
           "Road construction",
           1
          ],
          [
           "Closed due to road construction",
           1
          ],
          [
           "Road construction",
           1
          ],
          [
           "Closed",
           4
          ],
          [
           "Road construction",
           1
          ],
          [
           "Road construction. Right lane closed",
           1
          ],
          [
           "Road construction",
           1
          ],
          [
           "Closed",
           4
          ],
          [
           "Road construction. Two lanes closed",
           1
          ],
          [
           "Road construction. Right lane closed",
           1
          ],
          [
           "Road construction",
           1
          ],
          [
           "Road construction",
           1
          ],
          [
           "Bridge maintenance operations",
           1
          ],
          [
           "Closed",
           4
          ],
          [
           "Closed",
           4
          ],
          [
           "Left lane blocked",
           1
          ],
          [
           "Road construction",
           1
          ],
          [
           "Backed-up traffic. Approach with care",
           3
          ],
          [
           "Construction work",
           1
          ],
          [
           "Construction work",
           1
          ],
          [
           "Road construction",
           1
          ],
          [
           "Road construction",
           1
          ],
          [
           "Closed",
           4
          ],
          [
           "Backed-up traffic. Approach with care",
           3
          ],
          [
           "Construction work",
           1
          ],
          [
           "Road construction",
           1
          ],
          [
           "Closed",
           4
          ],
          [
           "Bridge maintenance operations",
           1
          ],
          [
           "Accident. Shoulder blocked",
           4
          ],
          [
           "Backed-up traffic. Approach with care",
           3
          ],
          [
           "Road construction",
           1
          ],
          [
           "Closed due to road construction",
           1
          ],
          [
           "Road construction",
           1
          ],
          [
           "Bridge maintenance operations",
           1
          ],
          [
           "Road construction",
           1
          ],
          [
           "Stop and go traffic. Approach with care",
           3
          ],
          [
           "Stop and go traffic. Approach with care",
           3
          ],
          [
           "Construction work",
           1
          ],
          [
           "Bridge maintenance operations",
           1
          ],
          [
           "Stop and go traffic. Approach with care",
           3
          ],
          [
           "Construction work",
           1
          ],
          [
           "Road construction. Left lane closed",
           1
          ],
          [
           "Road construction",
           1
          ],
          [
           "Construction work",
           1
          ],
          [
           "Bridge maintenance operations",
           1
          ],
          [
           "Closed",
           4
          ],
          [
           "Closed",
           4
          ],
          [
           "Construction work",
           1
          ],
          [
           "Road construction",
           1
          ],
          [
           "Construction work",
           1
          ],
          [
           "Construction work",
           1
          ],
          [
           "Road construction",
           1
          ],
          [
           "Road construction",
           1
          ],
          [
           "Road construction",
           1
          ],
          [
           "Road construction. Right lane closed",
           1
          ],
          [
           "Road construction. Right lane closed",
           1
          ],
          [
           "Closed",
           4
          ],
          [
           "Construction work",
           1
          ],
          [
           "Closed",
           4
          ],
          [
           "Road construction",
           1
          ],
          [
           "Bridge maintenance operations",
           1
          ],
          [
           "Road construction",
           1
          ],
          [
           "Closed",
           4
          ],
          [
           "Road construction",
           1
          ],
          [
           "Bridge maintenance operations",
           1
          ],
          [
           "Closed",
           4
          ],
          [
           "Construction work",
           1
          ],
          [
           "Road construction",
           1
          ],
          [
           "Road construction",
           1
          ],
          [
           "Road construction",
           1
          ],
          [
           "Closed",
           4
          ],
          [
           "Construction work",
           1
          ],
          [
           "Road construction",
           1
          ],
          [
           "Construction work",
           1
          ],
          [
           "Road construction",
           1
          ],
          [
           "Left lane blocked",
           1
          ],
          [
           "Road construction",
           1
          ],
          [
           "Construction work",
           1
          ],
          [
           "Closed",
           4
          ],
          [
           "Paving operations",
           1
          ],
          [
           "Road construction",
           1
          ],
          [
           "Road construction. Right lane closed",
           1
          ],
          [
           "Road construction",
           1
          ],
          [
           "Construction work",
           1
          ],
          [
           "Road construction",
           1
          ],
          [
           "Construction work",
           1
          ],
          [
           "Closed",
           4
          ],
          [
           "Road construction",
           1
          ],
          [
           "Road construction",
           1
          ],
          [
           "Construction work",
           1
          ],
          [
           "Road construction",
           1
          ],
          [
           "Road construction",
           1
          ],
          [
           "Road construction",
           1
          ],
          [
           "Construction work",
           1
          ],
          [
           "Construction work",
           1
          ],
          [
           "Road construction",
           1
          ],
          [
           "Closed",
           4
          ],
          [
           "Closed",
           4
          ],
          [
           "Road construction. Right lane closed",
           1
          ],
          [
           "Road construction",
           1
          ],
          [
           "Road construction. Right lane closed",
           1
          ],
          [
           "Closed",
           4
          ],
          [
           "Closed",
           4
          ],
          [
           "Bridge maintenance operations",
           1
          ],
          [
           "Stop and go traffic. Approach with care",
           3
          ],
          [
           "Road construction. Shoulder closed",
           1
          ],
          [
           "Road construction. Shoulder closed",
           1
          ],
          [
           "Closed",
           4
          ],
          [
           "Road construction",
           1
          ],
          [
           "Construction work",
           1
          ],
          [
           "Closed",
           4
          ],
          [
           "Road construction. Shoulder closed",
           1
          ],
          [
           "Bridge maintenance operations",
           1
          ],
          [
           "Bridge maintenance operations",
           1
          ],
          [
           "Fair",
           2
          ],
          [
           "Bridge maintenance operations",
           1
          ],
          [
           "Road construction",
           1
          ],
          [
           "Construction work",
           1
          ],
          [
           "Long-term road construction",
           1
          ],
          [
           "Closed",
           4
          ],
          [
           "New road layout",
           1
          ],
          [
           "Closed",
           4
          ],
          [
           "Fair",
           2
          ],
          [
           "Closed",
           4
          ],
          [
           "Road construction",
           1
          ],
          [
           "Construction work",
           1
          ],
          [
           "Closed",
           4
          ],
          [
           "Road construction. Right lane closed",
           1
          ],
          [
           "Long-term road construction",
           1
          ],
          [
           "Closed",
           4
          ],
          [
           "Right lane closed",
           1
          ],
          [
           "Right lane closed",
           1
          ],
          [
           "Closed",
           4
          ],
          [
           "Closed",
           4
          ],
          [
           "Closed",
           4
          ],
          [
           "Traffic congestion",
           3
          ],
          [
           "Road maintenance operations",
           1
          ],
          [
           "Right lane closed",
           1
          ],
          [
           "Construction work",
           1
          ],
          [
           "Closed",
           4
          ],
          [
           "Closed due to road construction",
           1
          ],
          [
           "Construction work",
           1
          ],
          [
           "Traffic congestion",
           3
          ],
          [
           "Closed",
           4
          ],
          [
           "Left lane closed",
           4
          ],
          [
           "Slow moving maintenance vehicle. Left lane closed",
           1
          ],
          [
           "Slow moving maintenance vehicle",
           1
          ],
          [
           "Construction work",
           1
          ],
          [
           "Closed",
           4
          ],
          [
           "Construction work",
           1
          ],
          [
           "Left lane closed",
           4
          ],
          [
           "Road maintenance operations",
           1
          ],
          [
           "Construction work",
           1
          ],
          [
           "Closed due to road construction",
           1
          ],
          [
           "Closed",
           4
          ],
          [
           "Closed",
           4
          ],
          [
           "Closed",
           4
          ],
          [
           "Road construction. Shoulder closed",
           1
          ],
          [
           "Closed",
           4
          ],
          [
           "Construction work",
           1
          ],
          [
           "Construction work",
           1
          ],
          [
           "Road construction",
           1
          ],
          [
           "Backed-up traffic with average speeds of 15 km/h. Approach with care",
           3
          ],
          [
           "Road construction. Right lane closed",
           1
          ],
          [
           "Right lane closed",
           1
          ],
          [
           "Bridge maintenance operations",
           1
          ],
          [
           "Backed-up traffic with average speeds of 20 km/h. Approach with care",
           3
          ],
          [
           "Closed",
           4
          ],
          [
           "Road construction",
           1
          ],
          [
           "Road maintenance operations",
           1
          ],
          [
           "Backed-up traffic with average speeds of 20 km/h. Approach with care",
           3
          ],
          [
           "Slow moving maintenance vehicle",
           1
          ],
          [
           "Road construction. Shoulder closed",
           1
          ],
          [
           "Traffic congestion",
           3
          ],
          [
           "Traffic congestion",
           3
          ],
          [
           "Closed",
           4
          ],
          [
           "Backed-up traffic with average speeds of 20 km/h. Approach with care",
           3
          ],
          [
           "Road construction. Right lane closed",
           1
          ],
          [
           "Slow moving maintenance vehicle",
           1
          ],
          [
           "Slow moving maintenance vehicle",
           1
          ],
          [
           "Road maintenance operations",
           1
          ],
          [
           "Construction work",
           1
          ],
          [
           "Closed",
           4
          ],
          [
           "Closed",
           4
          ],
          [
           "Closed",
           4
          ],
          [
           "Slow moving maintenance vehicle. Left lane closed",
           1
          ],
          [
           "Construction work",
           1
          ],
          [
           "Closed",
           4
          ],
          [
           "Closed due to road construction",
           1
          ],
          [
           "Closed",
           4
          ],
          [
           "Closed due to road construction",
           1
          ],
          [
           "Bridge maintenance operations",
           1
          ],
          [
           "Closed",
           4
          ],
          [
           "Closed",
           4
          ],
          [
           "Closed",
           4
          ],
          [
           "Bridge maintenance operations",
           1
          ],
          [
           "Construction work",
           1
          ],
          [
           "Closed",
           4
          ],
          [
           "Road maintenance operations",
           1
          ],
          [
           "Construction work",
           1
          ],
          [
           "Bridge maintenance operations",
           1
          ],
          [
           "Road construction. Right lane closed",
           1
          ],
          [
           "Closed",
           4
          ],
          [
           "Road construction. Right lane closed",
           1
          ],
          [
           "Left lane closed",
           4
          ],
          [
           "New road construction layout",
           1
          ],
          [
           "Road construction",
           1
          ],
          [
           "Construction work",
           1
          ],
          [
           "Closed due to road construction",
           1
          ],
          [
           "Closed due to road construction",
           1
          ],
          [
           "Backed-up traffic with average speeds of 15 km/h. Approach with care",
           3
          ],
          [
           "Construction work",
           1
          ],
          [
           "Lane blocked",
           1
          ],
          [
           "Bridge maintenance operations",
           1
          ],
          [
           "Accident. Left lane blocked",
           4
          ],
          [
           "Road construction. Roadway reduced to one lane",
           1
          ],
          [
           "Paving operations",
           1
          ],
          [
           "Construction work",
           1
          ],
          [
           "Closed",
           4
          ],
          [
           "Construction work",
           1
          ],
          [
           "Closed",
           4
          ],
          [
           "Closed",
           4
          ],
          [
           "Closed",
           4
          ],
          [
           "Closed",
           4
          ],
          [
           "Closed",
           4
          ],
          [
           "Closed",
           4
          ],
          [
           "Closed",
           4
          ],
          [
           "Closed",
           4
          ],
          [
           "Closed",
           4
          ],
          [
           "Road maintenance operations",
           1
          ],
          [
           "Road construction. Roadway reduced to one lane",
           1
          ],
          [
           "Construction work",
           1
          ],
          [
           "Road maintenance operations",
           1
          ],
          [
           "Construction work",
           1
          ],
          [
           "Closed due to road construction",
           1
          ],
          [
           "Closed due to road construction",
           1
          ],
          [
           "Construction work",
           1
          ],
          [
           "Road construction. Roadway reduced to one lane",
           1
          ],
          [
           "Construction work",
           1
          ],
          [
           "Bridge maintenance operations",
           1
          ],
          [
           "Closed",
           4
          ],
          [
           "Traffic congestion",
           3
          ],
          [
           "Road maintenance operations",
           1
          ],
          [
           "Road maintenance operations",
           1
          ],
          [
           "Accident",
           4
          ],
          [
           "Construction work",
           1
          ],
          [
           "Right lane closed",
           1
          ],
          [
           "Closed",
           4
          ],
          [
           "Closed",
           4
          ],
          [
           "Road maintenance operations",
           1
          ],
          [
           "Road maintenance operations",
           1
          ],
          [
           "Traffic congestion",
           3
          ],
          [
           "Accident. Left lane blocked",
           4
          ],
          [
           "Right lane closed",
           1
          ],
          [
           "Closed",
           4
          ],
          [
           "Road construction. Roadway reduced to one lane",
           1
          ],
          [
           "Road construction. Roadway reduced to one lane",
           1
          ],
          [
           "Construction work",
           1
          ],
          [
           "Closed",
           4
          ],
          [
           "Stop and go traffic. Approach with care",
           3
          ],
          [
           "Construction work",
           1
          ],
          [
           "Road construction. Right lane closed",
           1
          ],
          [
           "Closed due to road construction",
           1
          ],
          [
           "Closed",
           4
          ],
          [
           "Closed due to road construction",
           1
          ],
          [
           "Closed",
           4
          ],
          [
           "Closed",
           4
          ],
          [
           "Traffic congestion",
           3
          ],
          [
           "Road construction. Roadway reduced to one lane",
           1
          ],
          [
           "Road maintenance operations",
           1
          ],
          [
           "Closed",
           4
          ],
          [
           "Closed",
           4
          ],
          [
           "Road maintenance operations",
           1
          ],
          [
           "Road maintenance operations",
           1
          ],
          [
           "Construction work",
           1
          ],
          [
           "Closed",
           4
          ],
          [
           "Closed",
           4
          ],
          [
           "Closed",
           4
          ],
          [
           "Closed due to road construction",
           1
          ],
          [
           "Closed",
           4
          ],
          [
           "Traffic congestion",
           3
          ],
          [
           "Closed due to road construction",
           1
          ],
          [
           "Closed due to road construction",
           1
          ],
          [
           "Traffic congestion",
           3
          ],
          [
           "Closed",
           4
          ],
          [
           "Closed",
           4
          ],
          [
           "Road construction. Roadway reduced to one lane",
           1
          ],
          [
           "Closed due to road construction",
           1
          ],
          [
           "Backed-up traffic with average speeds of 10 km/h. Approach with care",
           3
          ],
          [
           "Backed-up traffic. Approach with care",
           3
          ],
          [
           "Closed",
           4
          ],
          [
           "Accident",
           4
          ],
          [
           "Closed",
           4
          ],
          [
           "Closed",
           4
          ],
          [
           "Closed",
           4
          ],
          [
           "Closed",
           4
          ],
          [
           "Closed",
           4
          ],
          [
           "Backed-up traffic. Approach with care",
           3
          ],
          [
           "Construction work",
           1
          ],
          [
           "Road construction. Roadway reduced to three lanes",
           1
          ],
          [
           "Backed-up traffic. Approach with care",
           3
          ],
          [
           "Construction work",
           1
          ],
          [
           "Closed",
           4
          ],
          [
           "Road maintenance operations",
           1
          ],
          [
           "Backed-up traffic with average speeds of 10 km/h. Approach with care",
           3
          ],
          [
           "Closed",
           4
          ],
          [
           "Closed",
           4
          ],
          [
           "Traffic congestion",
           3
          ],
          [
           "Closed",
           4
          ],
          [
           "Backed-up traffic with average speeds of 25 km/h. Approach with care",
           3
          ],
          [
           "Closed",
           4
          ],
          [
           "Stop and go traffic. Approach with care",
           3
          ],
          [
           "Closed",
           4
          ],
          [
           "Construction work",
           1
          ],
          [
           "Road maintenance operations",
           1
          ],
          [
           "Road maintenance operations",
           1
          ],
          [
           "Closed",
           4
          ],
          [
           "Closed",
           4
          ],
          [
           "Road construction. Roadway reduced to one lane",
           1
          ],
          [
           "Closed",
           4
          ],
          [
           "Construction work",
           1
          ],
          [
           "Road construction. Roadway reduced to three lanes",
           1
          ],
          [
           "Backed-up traffic with average speeds of 10 km/h. Approach with care",
           3
          ],
          [
           "Closed",
           4
          ]
         ],
         "hovertemplate": "<b>%{hovertext}</b><br><br>lat=%{lat}<br>lng=%{lon}<br>shortDesc=%{customdata[0]}<br>type=%{customdata[1]}<br>severity=%{marker.color}<extra></extra>",
         "hovertext": [
          "4405418776464707010",
          "533119548599105528",
          "505275340163207417",
          "4453299463648210620",
          "2509738909818101436",
          "4179130028525579183",
          "861077951041726401",
          "550794525502504929",
          "3884772712867537286",
          "3471045332070013217",
          "4609670868592950001",
          "3623282786519512328",
          "4012855102202713600",
          "2683424967982116562",
          "2302301548870036469",
          "4132416732885045553",
          "2386661593926117803",
          "4588259836374465241",
          "2152040758715072065",
          "4558512522980086584",
          "3067906554629608805",
          "4392229462124680148",
          "4441890214583575313",
          "3404168134947812821",
          "2753955977874215530",
          "2704603085432560364",
          "2062399658359358166",
          "2850020221047298453",
          "2738717886163227067",
          "2188674155138608071",
          "2395592929165668565",
          "4221946823063158658",
          "2645479096034203187",
          "1740615055103438169",
          "276747918745750502",
          "516129497946980277",
          "3122640435841259529",
          "1868463307072743349",
          "181319415321866037",
          "1815130514773071208",
          "2482332146399796156",
          "1785630227940500951",
          "3841163877263783094",
          "4172235139127009401",
          "1233666123653368173",
          "3912564941984478233",
          "2488536956592373695",
          "3088075022680419108",
          "1063524169510868636",
          "1080101007675273325",
          "3224987314515383976",
          "1710421740594053474",
          "2404270315909801505",
          "1660289518805259790",
          "2642865728344902800",
          "3621727629692123294",
          "1586852749867764406",
          "3779179681687414653",
          "3126523377365010120",
          "2202808946341132137",
          "3342445507655441541",
          "1273990848837190649",
          "425613911799171228",
          "491563910617654280",
          "2359094287409090045",
          "4453379294476065354",
          "3925785221779000523",
          "3569239464020197176",
          "3319006500290999792",
          "1977162692842013599",
          "1160903075517897775",
          "3806229465614595715",
          "633018666231469855",
          "1354078000926326163",
          "1635154581689101540",
          "3022718567873183045",
          "1405088218440982988",
          "3180655968528540268",
          "3943123898190849791",
          "3260831229208409248",
          "2471227495961706415",
          "306206490968399695",
          "2738509943709615473",
          "3456863549460018820",
          "1364525219891955411",
          "2192995528620361392",
          "2499625187208920667",
          "2350120343726109045",
          "191526853120503683",
          "2248106657270136435",
          "2308544675214412024",
          "2231757820065794438",
          "2299031632585736501",
          "2427935215037524728",
          "356758601947365901",
          "4068881771395576406",
          "734919583097770536",
          "330142278591048614",
          "2189380905674007431",
          "926083332307113286",
          "216235313182368449",
          "3616338095534330462",
          "4440708932513625034",
          "663267698273004642",
          "3671470426201991981",
          "4345490159157914058",
          "1068824153302467260",
          "4529232809120735082",
          "3705362470588961921",
          "3716052116053387422",
          "2270826409446879426",
          "2983473053309706378",
          "3678994088118803470",
          "1109938701169264989",
          "3733084458132091437",
          "3707419065746000557",
          "3497339424199287796",
          "1952143055140894926",
          "1237805328330351069",
          "3502439533225218618",
          "2079680122110540138",
          "4045323424009168934",
          "1036107582787738463",
          "2569632549543842600",
          "842833607605524676",
          "4354528908171027562",
          "2109667839067896341",
          "1627315788316021608",
          "4076586405610252971",
          "1573012625876183656",
          "4328316739361552735",
          "1762352766872835834",
          "2021685079384258042",
          "1938718790442958750",
          "3431455660168483632",
          "3316785044717222635",
          "3517897369484058656",
          "469151212952487725",
          "4060507403081859993",
          "3515566195963499688",
          "1695149401655247221",
          "2307832874546015889",
          "3151783837852110429",
          "81921072676874652",
          "3260560152141194022",
          "4370182112212495054",
          "3316967271543335130",
          "1304561044560918545",
          "2363569112958794736",
          "957268973085712662",
          "4450512052656003813",
          "1803518468082962589",
          "3183201863903755613",
          "364422048073533925",
          "4384746291952612786",
          "878623843051427989",
          "577686074992564525",
          "591280171046922170",
          "3454639490868854812",
          "2389958458923432989",
          "1966912877934169896",
          "2326348604639855069",
          "3338623392725640061",
          "2483904814889675934",
          "645174932025553866",
          "2939104032217683010",
          "2252582237857508855",
          "529319912264514294",
          "1918135689576176147",
          "1952831139555514076",
          "4141467179925119515",
          "81700209779972183",
          "1033319902596412925",
          "2919008431885883151",
          "2491774942039591503",
          "2718104994366697057",
          "2124554142488880034",
          "1792830232928430205",
          "2300757921297296764",
          "1627315788316021608",
          "2259889571280463395",
          "4359313295200419936",
          "2255853339643501540",
          "296823642250574128",
          "4068104180348026022",
          "3645171603844418430",
          "1204652130443626877",
          "1771022496150026439",
          "3401551477704823132",
          "995651975253059041",
          "1255065122597303439",
          "4390691614281324896",
          "139140893728640839",
          "3524529862716555350",
          "1938718790442958750",
          "3101703690239216105",
          "3923414006014783710",
          "542859241698474054",
          "4280573392438093926",
          "3915950874706800873",
          "1620003503561408861",
          "898779889641419979",
          "2874684545514299312",
          "2353096511696681779",
          "1510502513799915904",
          "4025074724332021335",
          "3266358641895753946",
          "200314312398307208",
          "3262652501464447661",
          "2737608630871976211",
          "2796170167062939793",
          "2100493542580042863",
          "1333409566429359730",
          "2961513615829121786",
          "3563166896876619590",
          "2658256443770161756",
          "2341233491283239944",
          "3968755705784281392",
          "2276247616397976933",
          "4372677569770451275",
          "4459128211959157365",
          "1509617479209141836",
          "230794401584671379",
          "4084638456093991064",
          "3201569933699276489",
          "3876935527155978065",
          "1860169583563705030",
          "3640454931539890891",
          "2832002692881649852",
          "2011661443080511351",
          "1398705547319671497",
          "2311709774787290586",
          "3340354297735578291",
          "90672989893338832",
          "1732182799802315301",
          "1873181004228747846",
          "4102678213510959922",
          "3154206753354189373",
          "3499729364928477234",
          "2274440099897539204",
          "4337969732091201746",
          "1443892523699420019",
          "3872609421595608359",
          "611005683227330190",
          "2690933625567874990",
          "1572817065049943538",
          "4109059417963188987",
          "2322998910951156211",
          "2893064780990229255",
          "524796357090974224",
          "1180847426774732422",
          "2275662171006261954",
          "1687694219833179293",
          "666771946398735607",
          "4356587477460936643",
          "2767801812098115383",
          "2712266062313659250",
          "3617178844344466904",
          "3945669273584206739",
          "2112764851337959675",
          "2237296164628014267",
          "2951270505632385221",
          "2221147884109625803",
          "4197211397530400307",
          "3382594901962410660",
          "2275662171006261954",
          "4131922939187060728",
          "4102491766165245992",
          "4482247837573835287",
          "735847105186696872",
          "3329377668494962119",
          "1495513684429191333",
          "4356587477460936643",
          "1046440261514359808",
          "1814385069883486083",
          "2007354121627650000",
          "975515943603361093",
          "3877659836928648624",
          "652823259321519474",
          "1823295756223601855",
          "136676283591595167",
          "1601660180995111812",
          "1547688104777755557",
          "2483407940705899815",
          "2524916615512909109",
          "2575576045298820750",
          "382542891026038906",
          "3993669034343964493",
          "1049859987050899494",
          "2990575270376865707",
          "2558500956924963584",
          "4210525328667159736",
          "1082299316704493208",
          "1965128419318050995",
          "2023284254977198718",
          "291781928071711763",
          "471374031009174979",
          "2417394456667047484",
          "1972890244840969069",
          "1382411866054456524",
          "1742634969329645892",
          "1807799798050326851",
          "4166691432073100567",
          "1340004769744440911",
          "4409003534851743815",
          "3112986452912553971",
          "4385814026210885942",
          "2743999060782233383",
          "1416227806891594557",
          "3820691079537751244",
          "1420028308902462092",
          "120929184718801923",
          "3254275422347578999",
          "4022804279315216107",
          "3311401661798254015",
          "1065722289188767598",
          "650340975232467782",
          "725875495484494980",
          "4203543404395400743",
          "4229256641411103279",
          "2668937112922842938",
          "2619550039649069206",
          "2444056184671331336",
          "2093649526756141991",
          "1136746594442249680",
          "2479969428124973720",
          "731947195986190334",
          "324804970974713684",
          "2968052850106223505",
          "392202976999313930",
          "695591302224113330",
          "4594588243204315946",
          "3853370137624960580",
          "139602857638472939",
          "291829080156430943",
          "195714524690428040",
          "1512554402806529819",
          "3681864811300256830",
          "1753340973057515837",
          "2528638010561930135",
          "2661560928854968319",
          "1363861381539514644",
          "731128512405965085",
          "3088772517348726682",
          "515156297036844972",
          "1232996412149924442"
         ],
         "lat": [
          41.5397900249809,
          41.31784996949136,
          41.25740001909435,
          41.56790996901691,
          41.30296999588609,
          41.303069991990924,
          41.34331997483969,
          41.67345003224909,
          41.542350025847554,
          41.93146001547575,
          41.914239982143044,
          41.31047003902495,
          41.288980012759566,
          41.289860028773546,
          41.29749996587634,
          42.15789000503719,
          41.633259980008006,
          41.56786998733878,
          41.30409996025264,
          41.28737001679838,
          41.69788001105189,
          41.92066001705825,
          41.25557997263968,
          41.55178997665644,
          41.269619995728135,
          42.16859998181462,
          41.733290031552315,
          41.32794002071023,
          41.32342997007072,
          41.38400003314018,
          41.568050030618906,
          41.724309995770454,
          41.287860022857785,
          41.28797996789217,
          41.91725998185575,
          41.87159998342395,
          41.649390030652285,
          41.45619001239538,
          41.25001003034413,
          41.24316000379622,
          41.93146001547575,
          41.603630036115646,
          41.31133002229035,
          41.301459996029735,
          41.870819963514805,
          41.38401998206973,
          41.67273002676666,
          41.49335000663996,
          41.716940039768815,
          41.91611995920539,
          41.784189976751804,
          41.46421995945275,
          41.33092003874481,
          41.551870023831725,
          41.26991000957787,
          41.925309961661696,
          41.291600028052926,
          41.76563998684287,
          41.34684003889561,
          41.95579997263849,
          41.916239988058805,
          41.497190007939935,
          41.53265995904803,
          41.520479964092374,
          41.2964900303632,
          41.955320024862885,
          41.91666000522673,
          41.32673000916839,
          41.87184004113078,
          41.672700019553304,
          41.32155996747315,
          41.766099985688925,
          41.727299988269806,
          41.30015996284783,
          41.338670030236244,
          41.32188996300101,
          41.71560002490878,
          41.574149960651994,
          41.33037001825869,
          41.67069003917277,
          41.32624997757375,
          41.29676998592913,
          41.62287002429366,
          41.49361001327634,
          41.54807997867465,
          41.2971100397408,
          41.91600998863578,
          41.32706000469625,
          41.69804002158344,
          41.25130000524223,
          41.34422002360225,
          41.323570031672716,
          41.871529994532466,
          41.603630036115646,
          41.57321001403034,
          42.153820004314184,
          41.292009986937046,
          41.534380009397864,
          41.61461996845901,
          41.67165999300778,
          41.77508999593556,
          41.68461003340781,
          41.25687003135681,
          41.38401998206973,
          41.29748999141157,
          41.6032800078392,
          41.338540026918054,
          41.67217003181577,
          41.77393002435565,
          41.27332999370992,
          41.61597004160285,
          41.626250026747584,
          41.30158002488315,
          41.29719997756183,
          41.25494998879731,
          41.67169997468591,
          41.49417000822723,
          41.89512999728322,
          42.07736003212631,
          41.535369995981455,
          41.83047995902598,
          42.17155996710062,
          41.5435600373894,
          42.05304999835789,
          42.07599001005292,
          41.36346001178026,
          41.54281999915838,
          41.65925997309387,
          42.00127003714442,
          41.65511000901461,
          41.89427001401782,
          41.97102000005543,
          41.65015001781285,
          41.666490035131574,
          41.37951001524925,
          41.31823000498116,
          42.11184997111559,
          41.31807996891439,
          41.37392004020512,
          41.3610300142318,
          42.11217996664345,
          41.362329963594675,
          42.203180026263,
          41.29105000756681,
          42.111839996650815,
          41.539089968428016,
          41.36601003818214,
          41.37392004020512,
          41.37944002635777,
          41.82882998138666,
          42.191590033471584,
          41.62501000799239,
          41.84812000952661,
          41.87917001545429,
          41.94551998749375,
          41.914609959349036,
          41.773189986124635,
          42.231210032477975,
          42.115879990160465,
          41.85051002539694,
          41.78611001931131,
          42.114699985831976,
          41.77268003113568,
          41.78620004095137,
          42.20270996913314,
          41.72605996951461,
          41.81736999191344,
          41.82117001153529,
          41.91194996237755,
          41.91194996237755,
          41.47513998672366,
          41.82943004183471,
          41.81374004110694,
          42.1372100058943,
          41.74810999073088,
          41.8293599691242,
          41.625930005684495,
          41.50779001414776,
          41.48971997201443,
          41.65925997309387,
          41.82028999552131,
          41.45317998714745,
          41.74844996072352,
          41.71233996748924,
          42.18025996349752,
          41.819190038368106,
          41.878120014443994,
          41.81486003100872,
          42.20321003347635,
          41.814289977774024,
          41.7231800314039,
          42.12329998612404,
          41.92286998964846,
          41.95063001476228,
          41.666490035131574,
          42.233940018340945,
          41.87454999424517,
          41.99436997063458,
          41.97403999976814,
          41.50005997158587,
          41.952400021255016,
          41.7490900028497,
          42.132919980213046,
          41.723129991441965,
          41.941180005669594,
          42.08215003833175,
          41.91429002210498,
          41.60361997783184,
          41.72349996864796,
          42.03683998435736,
          41.771229961887,
          41.93698997609317,
          41.83144999668002,
          41.81486003100872,
          41.73270002938807,
          41.720139998942614,
          41.50129999034107,
          41.93494001403451,
          41.7482300195843,
          42.11400001309812,
          42.0312100276351,
          41.831909995526075,
          41.64145002141595,
          41.81816996075213,
          41.3862700201571,
          41.814549984410405,
          41.814679987728596,
          41.819230020046234,
          41.771730026230216,
          41.89661996439099,
          41.86539997346699,
          41.86512999236584,
          41.8567100353539,
          41.82901999913156,
          41.82714999653399,
          41.93484999239445,
          42.18635997734964,
          41.781139969825745,
          41.61876004189253,
          41.43374998122454,
          42.228699987754226,
          41.737160040065646,
          41.665269965305924,
          41.692790016531944,
          41.68491002172232,
          41.93484999239445,
          41.91775996237993,
          41.74476996995509,
          41.682949997484684,
          41.83022003620863,
          41.67027002200484,
          42.60792000219226,
          42.61480003595352,
          42.85177999176085,
          42.57926001213491,
          42.85906000994146,
          42.75231999345124,
          42.75047002360225,
          42.74529998190701,
          42.58839000016451,
          42.74529998190701,
          42.86883004009724,
          42.56830000318587,
          42.54850999452174,
          42.598090041428804,
          42.60792000219226,
          42.54899002611637,
          42.25961001589894,
          42.55547996610403,
          42.67271999269724,
          42.59761000983417,
          42.59725998155773,
          42.57926001213491,
          42.375589990988374,
          42.548869997262955,
          42.52408001571894,
          42.56847996264696,
          42.545239962637424,
          42.558559980243444,
          42.26149996742606,
          42.67271999269724,
          42.54630002193153,
          42.37000001594424,
          42.37375997006893,
          42.36219998449087,
          42.32286002486944,
          42.362680016085505,
          42.38303001970053,
          42.58212000131607,
          42.486349968239665,
          42.40801999345422,
          42.255619978532195,
          42.54992997273803,
          42.34961003065109,
          42.37955002114177,
          42.255749981850386,
          42.37231995910406,
          42.46608001179993,
          42.68101003021002,
          42.62216999195516,
          42.36154996789992,
          42.57556996308267,
          42.42337999865413,
          42.36173001118004,
          42.362359995022416,
          42.49569998122752,
          42.56173001602292,
          42.38822001032531,
          42.40239003673196,
          42.36110002733767,
          42.421830017119646,
          42.62482998892665,
          42.37332997843623,
          42.393619967624545,
          42.431540032848716,
          42.38733999431133,
          42.57101004011929,
          42.72543000988662,
          42.725929990410805,
          42.415639981627464,
          42.64340001158416,
          42.35723001882434,
          42.37798000685871,
          42.64419000595808,
          42.503539994359016,
          42.84829999320209,
          42.35742003656924,
          42.26062003523111,
          42.29483999311924,
          42.423479994758964,
          42.29582997970283,
          42.57434000261128,
          42.872589994221926,
          42.34838996082544,
          42.656960003077984,
          42.63956998474896,
          42.3774900007993,
          42.39354997873306,
          42.28749996051192,
          42.24949004128575,
          42.408400028944016,
          42.58671001531184,
          42.63924996368587,
          42.34788998030126,
          42.46624999679625,
          42.347039971500635
         ],
         "legendgroup": "",
         "lon": [
          -72.77216001413763,
          -72.901880024001,
          -73.21953001432121,
          -72.65058998018503,
          -72.60386003181338,
          -72.92937995865941,
          -72.97883000224829,
          -72.78451996855438,
          -72.78029004111886,
          -72.62760998681188,
          -72.6263599935919,
          -73.12129000201821,
          -72.9589499719441,
          -72.9589499719441,
          -72.94833001680672,
          -72.54334000870585,
          -72.64936999417841,
          -72.6506800018251,
          -72.93149001896381,
          -73.23430999182165,
          -72.65882997773588,
          -73.06775998324156,
          -73.14594000577927,
          -73.04808002896607,
          -73.12867001630366,
          -73.06068004108965,
          -72.62330001220107,
          -73.08630997315049,
          -72.88054003380239,
          -73.12003003433347,
          -72.72749997675419,
          -73.09834001585841,
          -73.2371200248599,
          -73.23764003813267,
          -72.62566002085805,
          -73.36307999677956,
          -72.9091000277549,
          -72.83863998949528,
          -73.22029997594655,
          -73.10930002480745,
          -72.62760998681188,
          -72.67598999664187,
          -73.11997999437153,
          -73.40056001208723,
          -73.36423996835947,
          -72.89538002572954,
          -72.78135999105871,
          -72.83722001127899,
          -72.62285996228456,
          -72.62593997642398,
          -72.66052002087235,
          -72.83230997622013,
          -73.09053000994027,
          -73.04638001136482,
          -73.1284499913454,
          -72.62117000296712,
          -73.24293999932706,
          -72.66797002404928,
          -72.86804999224842,
          -72.79245000332594,
          -72.62622999027371,
          -73.41910002753139,
          -72.76832001283765,
          -72.77157998643816,
          -73.14755000174046,
          -72.79166000895202,
          -72.62579002417624,
          -72.95975002460182,
          -73.36514001712203,
          -72.94978997670114,
          -73.26418996788561,
          -72.65879997052252,
          -72.75834001600742,
          -73.40046999044716,
          -73.38090000674129,
          -73.26449004001915,
          -72.59714998304844,
          -72.7207200229168,
          -72.90858998894691,
          -72.95017998665571,
          -72.96002000570297,
          -73.14866001717746,
          -72.68492996692657,
          -72.8389999922365,
          -72.65326003544033,
          -73.14571000635624,
          -72.6263599935919,
          -72.90792999789119,
          -72.6583299972117,
          -73.22002999484539,
          -72.9793800227344,
          -72.8808899782598,
          -73.36426997557282,
          -72.67598999664187,
          -72.72229003719985,
          -72.63548000715673,
          -73.24322003871202,
          -72.76723003014922,
          -73.05784000083804,
          -72.9504399932921,
          -72.70536001771688,
          -73.0679199937731,
          -73.21944996714592,
          -72.89538002572954,
          -72.94783003628254,
          -72.67696003429592,
          -73.3807700034231,
          -72.94961001724005,
          -72.70500001497567,
          -73.2267399597913,
          -73.05734999477863,
          -72.74295000359416,
          -72.60347002185881,
          -73.14560003578663,
          -73.14568997360766,
          -72.95010999776423,
          -72.90370996110141,
          -71.89219001680613,
          -71.70873999595642,
          -72.09496996365488,
          -71.52265998534858,
          -72.33441000804305,
          -72.1102100238204,
          -71.9288600049913,
          -71.70994003303349,
          -72.09650997072458,
          -72.11052996106446,
          -71.54415998607874,
          -71.55771000310779,
          -71.94938996806741,
          -71.8925800267607,
          -71.51169000193477,
          -71.96362000890076,
          -71.50693000294268,
          -71.90407002344728,
          -72.36115003935993,
          -72.13497997261584,
          -72.3613399732858,
          -72.19585999846458,
          -72.02773000113666,
          -71.85520000755787,
          -71.70053000561893,
          -71.77694999612868,
          -72.43433997966349,
          -72.1350699942559,
          -72.09666000679135,
          -72.10804003290832,
          -72.19585999846458,
          -71.51139001362026,
          -71.53709001839161,
          -71.85762003064156,
          -70.94568002969027,
          -71.06224003247917,
          -71.06398003175855,
          -70.70111000910401,
          -71.44178995862603,
          -70.53991000168025,
          -71.02335998788476,
          -70.92173997312784,
          -71.02316997013986,
          -71.41968998126686,
          -70.94049003906548,
          -70.53704003803432,
          -71.41929997131228,
          -71.09175003133714,
          -71.14845997653902,
          -71.41653997823596,
          -71.42030001617968,
          -71.39595000073314,
          -71.39595000073314,
          -71.31090997718275,
          -71.37980000115931,
          -71.40963002108037,
          -71.04102996177971,
          -71.45299999974668,
          -71.4175599720329,
          -70.94585998915136,
          -71.31289003416896,
          -71.3129099830985,
          -71.54415998607874,
          -71.43599999137223,
          -71.4427999779582,
          -71.42296998761594,
          -71.17572002112865,
          -70.91765002347529,
          -71.50568000972271,
          -71.05391001328826,
          -71.40672996640205,
          -71.11441997811198,
          -71.44445003941655,
          -71.18491002358496,
          -70.90131998062134,
          -71.03248997591436,
          -71.3986300304532,
          -71.50693000294268,
          -71.02331003174186,
          -71.0549300070852,
          -71.21065001003444,
          -71.29469996318221,
          -71.32691999897361,
          -71.39004000462592,
          -71.3189700152725,
          -71.03989999741316,
          -71.46829999051988,
          -71.08427999541163,
          -71.02296997793019,
          -71.09307998791337,
          -71.25625996850431,
          -71.44052001647651,
          -71.27045002765954,
          -70.53810001350939,
          -71.07154000550508,
          -71.41714003868401,
          -71.40672996640205,
          -70.94355999492109,
          -71.15430995821953,
          -71.31730997934937,
          -71.46997997537255,
          -71.45290000364184,
          -70.94284996390343,
          -71.26967998221517,
          -71.41688003204763,
          -71.18429998867214,
          -71.50145997293293,
          -71.47752000018954,
          -71.4396499749273,
          -71.40267002396286,
          -71.38502997346222,
          -70.54109000600874,
          -71.38834996148944,
          -71.49225002154708,
          -71.49291998706758,
          -71.03251000866294,
          -71.38248003087938,
          -71.3762899953872,
          -71.46983002312481,
          -71.07486996799707,
          -70.54348999634385,
          -70.53939996287227,
          -71.45696002990007,
          -70.81320002675056,
          -71.47808996960521,
          -70.32405998557806,
          -69.95491996407509,
          -69.95155001990497,
          -70.01037999987602,
          -69.98222996480763,
          -69.99166999943554,
          -69.95109999552369,
          -69.9745399877429,
          -70.32002996653318,
          -72.53254001028836,
          -72.59845001623034,
          -72.55345000885427,
          -72.4769900366664,
          -72.80220997519791,
          -73.35102003067732,
          -73.34663000889122,
          -73.21337996050715,
          -72.62016995809972,
          -73.21337996050715,
          -71.61374000832438,
          -71.81758998893201,
          -71.86281002126634,
          -72.49761002138257,
          -72.53254001028836,
          -71.84344002977014,
          -71.80515996180475,
          -72.0420799870044,
          -71.7955800332129,
          -71.79991004057229,
          -72.49578000046313,
          -72.4769900366664,
          -71.59890001639724,
          -71.84349996037781,
          -71.58439999446273,
          -71.81965998373926,
          -71.90135998651385,
          -71.93201998248696,
          -71.82069003582001,
          -71.7955800332129,
          -71.48579000495374,
          -71.1101499851793,
          -71.08194999396801,
          -71.08423003926873,
          -71.07668003998697,
          -71.09212000854313,
          -71.12771996296942,
          -70.77033002860844,
          -71.19483998045325,
          -71.13066997379065,
          -71.12557000480592,
          -70.8903599716723,
          -71.04078001342714,
          -71.0939900111407,
          -71.12465998157859,
          -71.1086099781096,
          -71.14100997336209,
          -70.83441001363099,
          -70.67751998081803,
          -71.08526000753045,
          -71.47410999052227,
          -71.02578998543322,
          -71.09396000392735,
          -71.08519001863897,
          -71.11785002052784,
          -70.86903003975749,
          -70.9744700230658,
          -71.05979000218213,
          -71.08440999872983,
          -71.23274998739362,
          -71.37779999524355,
          -70.99053000099957,
          -71.0856100358069,
          -71.07744002714753,
          -70.97310997545719,
          -71.4806199632585,
          -71.16749997250736,
          -71.17054997943342,
          -71.10407000407577,
          -71.30850998684764,
          -71.12150000408292,
          -71.07555996626616,
          -71.30844997242093,
          -70.92346002347767,
          -70.9011599700898,
          -71.13804998807609,
          -71.00776998326182,
          -71.22113996185362,
          -71.24942997470498,
          -71.22686999849975,
          -70.89494998566806,
          -70.90955997817218,
          -71.05762001127005,
          -71.14468996413052,
          -71.31546000950038,
          -71.08707997016609,
          -71.08329998329282,
          -71.42345999367535,
          -71.0691300407052,
          -71.13096996210515,
          -70.76741999946535,
          -71.315200002864,
          -71.09730999916792,
          -71.25159996561706,
          -71.10137999989092
         ],
         "marker": {
          "color": [
           1,
           1,
           1,
           1,
           1,
           3,
           1,
           1,
           1,
           1,
           1,
           1,
           1,
           1,
           1,
           3,
           3,
           1,
           1,
           1,
           1,
           3,
           1,
           3,
           1,
           3,
           1,
           1,
           1,
           3,
           1,
           1,
           1,
           1,
           1,
           3,
           3,
           1,
           1,
           1,
           1,
           1,
           1,
           1,
           3,
           1,
           1,
           1,
           3,
           1,
           1,
           1,
           1,
           3,
           1,
           1,
           1,
           1,
           1,
           1,
           1,
           1,
           1,
           1,
           1,
           1,
           1,
           3,
           3,
           1,
           1,
           1,
           1,
           1,
           1,
           1,
           1,
           1,
           3,
           1,
           3,
           1,
           1,
           1,
           3,
           1,
           1,
           3,
           1,
           1,
           1,
           1,
           3,
           1,
           1,
           0,
           1,
           1,
           1,
           1,
           3,
           1,
           1,
           2,
           1,
           1,
           1,
           1,
           3,
           1,
           1,
           1,
           1,
           1,
           1,
           1,
           1,
           1,
           3,
           3,
           1,
           1,
           1,
           3,
           3,
           1,
           1,
           1,
           1,
           3,
           1,
           1,
           3,
           1,
           1,
           1,
           2,
           1,
           1,
           1,
           1,
           3,
           1,
           3,
           2,
           3,
           1,
           1,
           3,
           1,
           1,
           3,
           1,
           1,
           3,
           3,
           3,
           1,
           1,
           1,
           1,
           3,
           3,
           1,
           1,
           3,
           2,
           2,
           1,
           1,
           3,
           1,
           2,
           1,
           1,
           3,
           3,
           3,
           3,
           1,
           3,
           1,
           1,
           1,
           1,
           1,
           1,
           1,
           1,
           3,
           1,
           1,
           1,
           1,
           1,
           1,
           1,
           3,
           1,
           1,
           1,
           1,
           1,
           1,
           3,
           3,
           3,
           1,
           1,
           3,
           3,
           3,
           3,
           1,
           3,
           3,
           3,
           1,
           1,
           3,
           1,
           1,
           1,
           1,
           3,
           1,
           2,
           1,
           3,
           1,
           3,
           3,
           1,
           1,
           1,
           1,
           2,
           2,
           1,
           1,
           3,
           1,
           3,
           3,
           3,
           3,
           3,
           3,
           3,
           3,
           3,
           1,
           1,
           1,
           1,
           1,
           3,
           3,
           1,
           1,
           1,
           1,
           3,
           1,
           1,
           1,
           2,
           1,
           1,
           3,
           3,
           1,
           1,
           1,
           2,
           1,
           3,
           1,
           1,
           1,
           3,
           1,
           1,
           1,
           3,
           3,
           3,
           3,
           3,
           1,
           1,
           3,
           3,
           3,
           1,
           3,
           1,
           3,
           3,
           3,
           3,
           3,
           1,
           3,
           3,
           1,
           3,
           3,
           1,
           3,
           1,
           1,
           3,
           2,
           3,
           3,
           3,
           3,
           3,
           1,
           1,
           1,
           1,
           1,
           3,
           1,
           1,
           3,
           3,
           1,
           3,
           1,
           3,
           1,
           3,
           1,
           1,
           1,
           3,
           3,
           1,
           3,
           1,
           1,
           1,
           3
          ],
          "coloraxis": "coloraxis"
         },
         "mode": "markers",
         "name": "",
         "showlegend": false,
         "subplot": "mapbox",
         "type": "scattermapbox"
        }
       ],
       "layout": {
        "coloraxis": {
         "colorbar": {
          "title": {
           "text": "severity"
          }
         },
         "colorscale": [
          [
           0,
           "#0d0887"
          ],
          [
           0.1111111111111111,
           "#46039f"
          ],
          [
           0.2222222222222222,
           "#7201a8"
          ],
          [
           0.3333333333333333,
           "#9c179e"
          ],
          [
           0.4444444444444444,
           "#bd3786"
          ],
          [
           0.5555555555555556,
           "#d8576b"
          ],
          [
           0.6666666666666666,
           "#ed7953"
          ],
          [
           0.7777777777777778,
           "#fb9f3a"
          ],
          [
           0.8888888888888888,
           "#fdca26"
          ],
          [
           1,
           "#f0f921"
          ]
         ]
        },
        "legend": {
         "tracegroupgap": 0
        },
        "mapbox": {
         "center": {
          "lat": 41.906515001184765,
          "lon": -71.90292791864496
         },
         "domain": {
          "x": [
           0,
           1
          ],
          "y": [
           0,
           1
          ]
         },
         "style": "open-street-map",
         "zoom": 6
        },
        "margin": {
         "b": 0,
         "l": 0,
         "r": 0,
         "t": 0
        },
        "template": {
         "data": {
          "bar": [
           {
            "error_x": {
             "color": "#2a3f5f"
            },
            "error_y": {
             "color": "#2a3f5f"
            },
            "marker": {
             "line": {
              "color": "#E5ECF6",
              "width": 0.5
             },
             "pattern": {
              "fillmode": "overlay",
              "size": 10,
              "solidity": 0.2
             }
            },
            "type": "bar"
           }
          ],
          "barpolar": [
           {
            "marker": {
             "line": {
              "color": "#E5ECF6",
              "width": 0.5
             },
             "pattern": {
              "fillmode": "overlay",
              "size": 10,
              "solidity": 0.2
             }
            },
            "type": "barpolar"
           }
          ],
          "carpet": [
           {
            "aaxis": {
             "endlinecolor": "#2a3f5f",
             "gridcolor": "white",
             "linecolor": "white",
             "minorgridcolor": "white",
             "startlinecolor": "#2a3f5f"
            },
            "baxis": {
             "endlinecolor": "#2a3f5f",
             "gridcolor": "white",
             "linecolor": "white",
             "minorgridcolor": "white",
             "startlinecolor": "#2a3f5f"
            },
            "type": "carpet"
           }
          ],
          "choropleth": [
           {
            "colorbar": {
             "outlinewidth": 0,
             "ticks": ""
            },
            "type": "choropleth"
           }
          ],
          "contour": [
           {
            "colorbar": {
             "outlinewidth": 0,
             "ticks": ""
            },
            "colorscale": [
             [
              0,
              "#0d0887"
             ],
             [
              0.1111111111111111,
              "#46039f"
             ],
             [
              0.2222222222222222,
              "#7201a8"
             ],
             [
              0.3333333333333333,
              "#9c179e"
             ],
             [
              0.4444444444444444,
              "#bd3786"
             ],
             [
              0.5555555555555556,
              "#d8576b"
             ],
             [
              0.6666666666666666,
              "#ed7953"
             ],
             [
              0.7777777777777778,
              "#fb9f3a"
             ],
             [
              0.8888888888888888,
              "#fdca26"
             ],
             [
              1,
              "#f0f921"
             ]
            ],
            "type": "contour"
           }
          ],
          "contourcarpet": [
           {
            "colorbar": {
             "outlinewidth": 0,
             "ticks": ""
            },
            "type": "contourcarpet"
           }
          ],
          "heatmap": [
           {
            "colorbar": {
             "outlinewidth": 0,
             "ticks": ""
            },
            "colorscale": [
             [
              0,
              "#0d0887"
             ],
             [
              0.1111111111111111,
              "#46039f"
             ],
             [
              0.2222222222222222,
              "#7201a8"
             ],
             [
              0.3333333333333333,
              "#9c179e"
             ],
             [
              0.4444444444444444,
              "#bd3786"
             ],
             [
              0.5555555555555556,
              "#d8576b"
             ],
             [
              0.6666666666666666,
              "#ed7953"
             ],
             [
              0.7777777777777778,
              "#fb9f3a"
             ],
             [
              0.8888888888888888,
              "#fdca26"
             ],
             [
              1,
              "#f0f921"
             ]
            ],
            "type": "heatmap"
           }
          ],
          "heatmapgl": [
           {
            "colorbar": {
             "outlinewidth": 0,
             "ticks": ""
            },
            "colorscale": [
             [
              0,
              "#0d0887"
             ],
             [
              0.1111111111111111,
              "#46039f"
             ],
             [
              0.2222222222222222,
              "#7201a8"
             ],
             [
              0.3333333333333333,
              "#9c179e"
             ],
             [
              0.4444444444444444,
              "#bd3786"
             ],
             [
              0.5555555555555556,
              "#d8576b"
             ],
             [
              0.6666666666666666,
              "#ed7953"
             ],
             [
              0.7777777777777778,
              "#fb9f3a"
             ],
             [
              0.8888888888888888,
              "#fdca26"
             ],
             [
              1,
              "#f0f921"
             ]
            ],
            "type": "heatmapgl"
           }
          ],
          "histogram": [
           {
            "marker": {
             "pattern": {
              "fillmode": "overlay",
              "size": 10,
              "solidity": 0.2
             }
            },
            "type": "histogram"
           }
          ],
          "histogram2d": [
           {
            "colorbar": {
             "outlinewidth": 0,
             "ticks": ""
            },
            "colorscale": [
             [
              0,
              "#0d0887"
             ],
             [
              0.1111111111111111,
              "#46039f"
             ],
             [
              0.2222222222222222,
              "#7201a8"
             ],
             [
              0.3333333333333333,
              "#9c179e"
             ],
             [
              0.4444444444444444,
              "#bd3786"
             ],
             [
              0.5555555555555556,
              "#d8576b"
             ],
             [
              0.6666666666666666,
              "#ed7953"
             ],
             [
              0.7777777777777778,
              "#fb9f3a"
             ],
             [
              0.8888888888888888,
              "#fdca26"
             ],
             [
              1,
              "#f0f921"
             ]
            ],
            "type": "histogram2d"
           }
          ],
          "histogram2dcontour": [
           {
            "colorbar": {
             "outlinewidth": 0,
             "ticks": ""
            },
            "colorscale": [
             [
              0,
              "#0d0887"
             ],
             [
              0.1111111111111111,
              "#46039f"
             ],
             [
              0.2222222222222222,
              "#7201a8"
             ],
             [
              0.3333333333333333,
              "#9c179e"
             ],
             [
              0.4444444444444444,
              "#bd3786"
             ],
             [
              0.5555555555555556,
              "#d8576b"
             ],
             [
              0.6666666666666666,
              "#ed7953"
             ],
             [
              0.7777777777777778,
              "#fb9f3a"
             ],
             [
              0.8888888888888888,
              "#fdca26"
             ],
             [
              1,
              "#f0f921"
             ]
            ],
            "type": "histogram2dcontour"
           }
          ],
          "mesh3d": [
           {
            "colorbar": {
             "outlinewidth": 0,
             "ticks": ""
            },
            "type": "mesh3d"
           }
          ],
          "parcoords": [
           {
            "line": {
             "colorbar": {
              "outlinewidth": 0,
              "ticks": ""
             }
            },
            "type": "parcoords"
           }
          ],
          "pie": [
           {
            "automargin": true,
            "type": "pie"
           }
          ],
          "scatter": [
           {
            "fillpattern": {
             "fillmode": "overlay",
             "size": 10,
             "solidity": 0.2
            },
            "type": "scatter"
           }
          ],
          "scatter3d": [
           {
            "line": {
             "colorbar": {
              "outlinewidth": 0,
              "ticks": ""
             }
            },
            "marker": {
             "colorbar": {
              "outlinewidth": 0,
              "ticks": ""
             }
            },
            "type": "scatter3d"
           }
          ],
          "scattercarpet": [
           {
            "marker": {
             "colorbar": {
              "outlinewidth": 0,
              "ticks": ""
             }
            },
            "type": "scattercarpet"
           }
          ],
          "scattergeo": [
           {
            "marker": {
             "colorbar": {
              "outlinewidth": 0,
              "ticks": ""
             }
            },
            "type": "scattergeo"
           }
          ],
          "scattergl": [
           {
            "marker": {
             "colorbar": {
              "outlinewidth": 0,
              "ticks": ""
             }
            },
            "type": "scattergl"
           }
          ],
          "scattermapbox": [
           {
            "marker": {
             "colorbar": {
              "outlinewidth": 0,
              "ticks": ""
             }
            },
            "type": "scattermapbox"
           }
          ],
          "scatterpolar": [
           {
            "marker": {
             "colorbar": {
              "outlinewidth": 0,
              "ticks": ""
             }
            },
            "type": "scatterpolar"
           }
          ],
          "scatterpolargl": [
           {
            "marker": {
             "colorbar": {
              "outlinewidth": 0,
              "ticks": ""
             }
            },
            "type": "scatterpolargl"
           }
          ],
          "scatterternary": [
           {
            "marker": {
             "colorbar": {
              "outlinewidth": 0,
              "ticks": ""
             }
            },
            "type": "scatterternary"
           }
          ],
          "surface": [
           {
            "colorbar": {
             "outlinewidth": 0,
             "ticks": ""
            },
            "colorscale": [
             [
              0,
              "#0d0887"
             ],
             [
              0.1111111111111111,
              "#46039f"
             ],
             [
              0.2222222222222222,
              "#7201a8"
             ],
             [
              0.3333333333333333,
              "#9c179e"
             ],
             [
              0.4444444444444444,
              "#bd3786"
             ],
             [
              0.5555555555555556,
              "#d8576b"
             ],
             [
              0.6666666666666666,
              "#ed7953"
             ],
             [
              0.7777777777777778,
              "#fb9f3a"
             ],
             [
              0.8888888888888888,
              "#fdca26"
             ],
             [
              1,
              "#f0f921"
             ]
            ],
            "type": "surface"
           }
          ],
          "table": [
           {
            "cells": {
             "fill": {
              "color": "#EBF0F8"
             },
             "line": {
              "color": "white"
             }
            },
            "header": {
             "fill": {
              "color": "#C8D4E3"
             },
             "line": {
              "color": "white"
             }
            },
            "type": "table"
           }
          ]
         },
         "layout": {
          "annotationdefaults": {
           "arrowcolor": "#2a3f5f",
           "arrowhead": 0,
           "arrowwidth": 1
          },
          "autotypenumbers": "strict",
          "coloraxis": {
           "colorbar": {
            "outlinewidth": 0,
            "ticks": ""
           }
          },
          "colorscale": {
           "diverging": [
            [
             0,
             "#8e0152"
            ],
            [
             0.1,
             "#c51b7d"
            ],
            [
             0.2,
             "#de77ae"
            ],
            [
             0.3,
             "#f1b6da"
            ],
            [
             0.4,
             "#fde0ef"
            ],
            [
             0.5,
             "#f7f7f7"
            ],
            [
             0.6,
             "#e6f5d0"
            ],
            [
             0.7,
             "#b8e186"
            ],
            [
             0.8,
             "#7fbc41"
            ],
            [
             0.9,
             "#4d9221"
            ],
            [
             1,
             "#276419"
            ]
           ],
           "sequential": [
            [
             0,
             "#0d0887"
            ],
            [
             0.1111111111111111,
             "#46039f"
            ],
            [
             0.2222222222222222,
             "#7201a8"
            ],
            [
             0.3333333333333333,
             "#9c179e"
            ],
            [
             0.4444444444444444,
             "#bd3786"
            ],
            [
             0.5555555555555556,
             "#d8576b"
            ],
            [
             0.6666666666666666,
             "#ed7953"
            ],
            [
             0.7777777777777778,
             "#fb9f3a"
            ],
            [
             0.8888888888888888,
             "#fdca26"
            ],
            [
             1,
             "#f0f921"
            ]
           ],
           "sequentialminus": [
            [
             0,
             "#0d0887"
            ],
            [
             0.1111111111111111,
             "#46039f"
            ],
            [
             0.2222222222222222,
             "#7201a8"
            ],
            [
             0.3333333333333333,
             "#9c179e"
            ],
            [
             0.4444444444444444,
             "#bd3786"
            ],
            [
             0.5555555555555556,
             "#d8576b"
            ],
            [
             0.6666666666666666,
             "#ed7953"
            ],
            [
             0.7777777777777778,
             "#fb9f3a"
            ],
            [
             0.8888888888888888,
             "#fdca26"
            ],
            [
             1,
             "#f0f921"
            ]
           ]
          },
          "colorway": [
           "#636efa",
           "#EF553B",
           "#00cc96",
           "#ab63fa",
           "#FFA15A",
           "#19d3f3",
           "#FF6692",
           "#B6E880",
           "#FF97FF",
           "#FECB52"
          ],
          "font": {
           "color": "#2a3f5f"
          },
          "geo": {
           "bgcolor": "white",
           "lakecolor": "white",
           "landcolor": "#E5ECF6",
           "showlakes": true,
           "showland": true,
           "subunitcolor": "white"
          },
          "hoverlabel": {
           "align": "left"
          },
          "hovermode": "closest",
          "mapbox": {
           "style": "light"
          },
          "paper_bgcolor": "white",
          "plot_bgcolor": "#E5ECF6",
          "polar": {
           "angularaxis": {
            "gridcolor": "white",
            "linecolor": "white",
            "ticks": ""
           },
           "bgcolor": "#E5ECF6",
           "radialaxis": {
            "gridcolor": "white",
            "linecolor": "white",
            "ticks": ""
           }
          },
          "scene": {
           "xaxis": {
            "backgroundcolor": "#E5ECF6",
            "gridcolor": "white",
            "gridwidth": 2,
            "linecolor": "white",
            "showbackground": true,
            "ticks": "",
            "zerolinecolor": "white"
           },
           "yaxis": {
            "backgroundcolor": "#E5ECF6",
            "gridcolor": "white",
            "gridwidth": 2,
            "linecolor": "white",
            "showbackground": true,
            "ticks": "",
            "zerolinecolor": "white"
           },
           "zaxis": {
            "backgroundcolor": "#E5ECF6",
            "gridcolor": "white",
            "gridwidth": 2,
            "linecolor": "white",
            "showbackground": true,
            "ticks": "",
            "zerolinecolor": "white"
           }
          },
          "shapedefaults": {
           "line": {
            "color": "#2a3f5f"
           }
          },
          "ternary": {
           "aaxis": {
            "gridcolor": "white",
            "linecolor": "white",
            "ticks": ""
           },
           "baxis": {
            "gridcolor": "white",
            "linecolor": "white",
            "ticks": ""
           },
           "bgcolor": "#E5ECF6",
           "caxis": {
            "gridcolor": "white",
            "linecolor": "white",
            "ticks": ""
           }
          },
          "title": {
           "x": 0.05
          },
          "xaxis": {
           "automargin": true,
           "gridcolor": "white",
           "linecolor": "white",
           "ticks": "",
           "title": {
            "standoff": 15
           },
           "zerolinecolor": "white",
           "zerolinewidth": 2
          },
          "yaxis": {
           "automargin": true,
           "gridcolor": "white",
           "linecolor": "white",
           "ticks": "",
           "title": {
            "standoff": 15
           },
           "zerolinecolor": "white",
           "zerolinewidth": 2
          }
         }
        }
       }
      }
     },
     "metadata": {},
     "output_type": "display_data"
    }
   ],
   "source": [
    "# bbox = (39, 40, -122, -121)  \n",
    "bbox = (ma_minlat, ma_maxlat, ma_minlng, ma_maxlng)\n",
    "\n",
    "conn = sqlite3.connect('traffic_data.db')\n",
    "\n",
    "incidents = get_incidents_in_area(conn, bbox)\n",
    "print(incidents.head(5))\n",
    "map_with_incidents = display_map_with_incidents(incidents, zoom=6)\n",
    "map_with_incidents.show()"
   ]
  },
  {
   "cell_type": "code",
   "execution_count": 27,
   "id": "52a7a362",
   "metadata": {},
   "outputs": [],
   "source": []
  },
  {
   "cell_type": "code",
   "execution_count": null,
   "id": "30ad875f",
   "metadata": {},
   "outputs": [],
   "source": []
  }
 ],
 "metadata": {
  "kernelspec": {
   "display_name": "Python 3 (ipykernel)",
   "language": "python",
   "name": "python3"
  },
  "language_info": {
   "codemirror_mode": {
    "name": "ipython",
    "version": 3
   },
   "file_extension": ".py",
   "mimetype": "text/x-python",
   "name": "python",
   "nbconvert_exporter": "python",
   "pygments_lexer": "ipython3",
   "version": "3.11.2"
  }
 },
 "nbformat": 4,
 "nbformat_minor": 5
}
