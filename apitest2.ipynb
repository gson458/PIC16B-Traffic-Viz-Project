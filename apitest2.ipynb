{
 "cells": [
  {
   "cell_type": "code",
   "execution_count": null,
   "metadata": {},
   "outputs": [],
   "source": [
    "import requests\n",
    "import pandas as pd"
   ]
  },
  {
   "cell_type": "code",
   "execution_count": null,
   "metadata": {},
   "outputs": [],
   "source": [
    "key=\"KEY\"\n",
    "bbox=\"39.95,-105.25,39.52,-104.71\"\n",
    "bbox=\"40,-122,39,-121\"\n",
    "response = requests.get(f\"https://www.mapquestapi.com/traffic/v2/incidents?key={key}&boundingBox={bbox}&filters=construction,incidents\")"
   ]
  },
  {
   "cell_type": "code",
   "execution_count": null,
   "metadata": {},
   "outputs": [],
   "source": [
    "response.json().keys()\n",
    "df = pd.DataFrame(response.json()[\"incidents\"])\n",
    "df"
   ]
  },
  {
   "cell_type": "code",
   "execution_count": null,
   "metadata": {},
   "outputs": [],
   "source": [
    "traffic = requests.get(f\"https://www.mapquestapi.com/traffic/v2/flow?key={key}&mapLat=38.890763&mapLng=-77.084755&mapHeight=400&mapWidth=400&mapScale=108335\")"
   ]
  },
  {
   "cell_type": "code",
   "execution_count": null,
   "metadata": {},
   "outputs": [],
   "source": [
    "import gmaps\n",
    "import gmaps.datasets\n",
    "key=\"key\""
   ]
  },
  {
   "cell_type": "code",
   "execution_count": null,
   "metadata": {},
   "outputs": [],
   "source": [
    "# Get the dataset\n",
    "earthquake_df = gmaps.datasets.load_dataset_as_df('earthquakes')#Get the locations from the data set\n",
    "locations = earthquake_df[['latitude', 'longitude']]#Get the magnitude from the data\n",
    "weights = earthquake_df['magnitude']#Set up your map\n",
    "fig = gmaps.figure()\n",
    "fig.add_layer(gmaps.heatmap_layer(locations, weights=weights))\n",
    "fig"
   ]
  }
 ],
 "metadata": {
  "language_info": {
   "name": "python"
  },
  "orig_nbformat": 4
 },
 "nbformat": 4,
 "nbformat_minor": 2
}
