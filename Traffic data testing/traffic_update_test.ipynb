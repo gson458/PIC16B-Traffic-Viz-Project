{
 "cells": [
  {
   "cell_type": "code",
   "execution_count": 3,
   "metadata": {},
   "outputs": [],
   "source": [
    "import requests\n",
    "import json\n",
    "import sqlite3\n",
    "import time\n",
    "import folium\n",
    "import pandas as pd\n",
    "from plotly import express as px\n",
    "\n",
    "#create our own database\n",
    "conn = sqlite3.connect('traffic_data.db')\n",
    "\n",
    "def insert_data(conn, data):\n",
    "    \"\"\"Inserts new traffic data into incidents table in database\"\"\"\n",
    "\n",
    "    if len(data) > 0:\n",
    "        data.to_sql(\"incidents\", conn, if_exists=\"append\", index=False)\n",
    "\n",
    "def get_traffic_data(bbox, key):\n",
    "    \"\"\"retrieves traffic incident data in a given bounding box from MapQuest Traffic API\"\"\"\n",
    "\n",
    "    # key = \"\"\n",
    "    response = requests.get(f\"https://www.mapquestapi.com/traffic/v2/incidents?key={key}&boundingBox={bbox}&filters=congestion,incidents,construction,event\")\n",
    "    data = pd.DataFrame(response.json()[\"incidents\"])\n",
    "    if len(data) > 0:\n",
    "        data = data[['id', 'type', 'severity', 'shortDesc', 'lat', 'lng']]\n",
    "    return data\n",
    "\n",
    "def store_traffic_data(conn, lat_start, lat_end, lng_start, lng_end):\n",
    "    \"\"\"Iterates over a given area and updates traffic incident database by MapQuest API calls\"\"\"\n",
    "\n",
    "    bbox_step = 1  # Bbox step size for iterating over the U.S. \n",
    "    bbox_range = {\n",
    "        # Starting latitude for bbox\n",
    "        \"lat_start\": lat_start, # 24.396308,  #southernmost\n",
    "        # Ending latitude for bbox\n",
    "        \"lat_end\": lat_end, # 49.384358,    #northernmost\n",
    "        # Starting longitude for bbox\n",
    "        \"lng_start\": lng_start, # -125.000000,  #westernmost\n",
    "        # Ending longitude for bbox\n",
    "        \"lng_end\": lng_end # -66.934570    #easternmost\n",
    "    }\n",
    "    # create_table()\n",
    "    bbox = {\n",
    "        \"lat_start\": bbox_range[\"lat_start\"],\n",
    "        \"lat_end\": bbox_range[\"lat_start\"] + bbox_step,\n",
    "        \"lng_start\": bbox_range[\"lng_start\"],\n",
    "        \"lng_end\": bbox_range[\"lng_start\"] + bbox_step\n",
    "    }\n",
    "    page = 1\n",
    "    # a loop that continues until the latitude of the current \n",
    "    #bounding box exceeds the northernmost latitude of the bbox_range.\n",
    "    while bbox[\"lat_start\"] <= bbox_range[\"lat_end\"]:\n",
    "        #to fetch traffic incident data for the current bounding box\n",
    "        data = get_traffic_data(f\"{bbox['lat_start']},{bbox['lng_start']},{bbox['lat_end']},{bbox['lng_end']}\")\n",
    "        insert_data(conn, data)\n",
    "        print(f\"Page {page} processed.\")\n",
    "        page += 1\n",
    "        #the longitude values of the bounding box are updated by adding the bbox_step \n",
    "        #value to both the starting and ending longitudes\n",
    "        bbox[\"lng_start\"] += bbox_step\n",
    "        bbox[\"lng_end\"] += bbox_step\n",
    "        #If the updated longitude exceeds the easternmost longitude of the bbox_range, \n",
    "        #the latitude values are updated, and the longitude values are reset to the starting values\n",
    "        if bbox[\"lng_start\"] > bbox_range[\"lng_end\"]:\n",
    "            bbox[\"lat_start\"] += bbox_step\n",
    "            bbox[\"lat_end\"] += bbox_step\n",
    "            bbox[\"lng_start\"] = bbox_range[\"lng_start\"]\n",
    "            bbox[\"lng_end\"] = bbox_range[\"lng_start\"] + bbox_step\n",
    "        time.sleep(1)  # Sleep for 1 second to avoid hitting API rate limits\n",
    "\n",
    "def get_incidents_in_area(conn, bbox):\n",
    "    \"\"\"Retrieves incidents within the given bounding box from database\"\"\"\n",
    "    \n",
    "    min_lat, max_lat = bbox[0], bbox[1]\n",
    "    min_lng, max_lng = bbox[2], bbox[3]\n",
    "    cmd=\\\n",
    "        f\"\"\"\n",
    "            SELECT * FROM incidents\n",
    "            WHERE lat BETWEEN {min_lat} AND {max_lat}\n",
    "            AND lng BETWEEN {min_lng} AND {max_lng}\n",
    "        \"\"\"\n",
    "    print(cmd)\n",
    "    df = pd.read_sql_query(cmd, conn)\n",
    "    return df\n",
    "\n",
    "def display_map_with_incidents(incidents, **kwargs):\n",
    "    \"\"\"Creates a plotly map of traffic incidents\"\"\"\n",
    "    \n",
    "    # try:\n",
    "    #     center_lat, center_lng = incidents['lat'][0], incidents['lng'][0]\n",
    "    # except:\n",
    "    #     print(\"data frame error?\")\n",
    "    #     center_lat, center_lng = 0, 0\n",
    "\n",
    "    fig = px.scatter_mapbox(incidents,\n",
    "                            lat=\"lat\",\n",
    "                            lon=\"lng\",\n",
    "                            color=\"severity\",\n",
    "                            hover_name=\"id\",\n",
    "                            hover_data=['shortDesc', 'type'],\n",
    "                            mapbox_style=\"open-street-map\",\n",
    "                            **kwargs)\n",
    "    fig.update_layout(margin={\"r\":0, \"l\":0,\"b\":0,\"t\":0})\n",
    "    return fig\n"
   ]
  },
  {
   "cell_type": "code",
   "execution_count": 1,
   "metadata": {},
   "outputs": [],
   "source": [
    "import sqlite3\n",
    "import pandas as pd"
   ]
  },
  {
   "cell_type": "code",
   "execution_count": 3,
   "metadata": {},
   "outputs": [
    {
     "ename": "NameError",
     "evalue": "name 'conn' is not defined",
     "output_type": "error",
     "traceback": [
      "\u001b[1;31m---------------------------------------------------------------------------\u001b[0m",
      "\u001b[1;31mNameError\u001b[0m                                 Traceback (most recent call last)",
      "Cell \u001b[1;32mIn[3], line 1\u001b[0m\n\u001b[1;32m----> 1\u001b[0m conn\u001b[39m.\u001b[39mclose()\n",
      "\u001b[1;31mNameError\u001b[0m: name 'conn' is not defined"
     ]
    }
   ],
   "source": [
    "conn.close()"
   ]
  },
  {
   "cell_type": "code",
   "execution_count": 10,
   "metadata": {},
   "outputs": [
    {
     "data": {
      "text/html": [
       "<div>\n",
       "<style scoped>\n",
       "    .dataframe tbody tr th:only-of-type {\n",
       "        vertical-align: middle;\n",
       "    }\n",
       "\n",
       "    .dataframe tbody tr th {\n",
       "        vertical-align: top;\n",
       "    }\n",
       "\n",
       "    .dataframe thead th {\n",
       "        text-align: right;\n",
       "    }\n",
       "</style>\n",
       "<table border=\"1\" class=\"dataframe\">\n",
       "  <thead>\n",
       "    <tr style=\"text-align: right;\">\n",
       "      <th></th>\n",
       "      <th>book_id</th>\n",
       "      <th>title</th>\n",
       "      <th>price</th>\n",
       "    </tr>\n",
       "  </thead>\n",
       "  <tbody>\n",
       "    <tr>\n",
       "      <th>0</th>\n",
       "      <td>12345</td>\n",
       "      <td>Python Programming</td>\n",
       "      <td>29</td>\n",
       "    </tr>\n",
       "    <tr>\n",
       "      <th>1</th>\n",
       "      <td>12346</td>\n",
       "      <td>Learn MySQL</td>\n",
       "      <td>23</td>\n",
       "    </tr>\n",
       "    <tr>\n",
       "      <th>2</th>\n",
       "      <td>12347</td>\n",
       "      <td>Data Science Cookbook</td>\n",
       "      <td>27</td>\n",
       "    </tr>\n",
       "    <tr>\n",
       "      <th>3</th>\n",
       "      <td>12348</td>\n",
       "      <td>bruh</td>\n",
       "      <td>30</td>\n",
       "    </tr>\n",
       "  </tbody>\n",
       "</table>\n",
       "</div>"
      ],
      "text/plain": [
       "   book_id                  title  price\n",
       "0    12345     Python Programming     29\n",
       "1    12346            Learn MySQL     23\n",
       "2    12347  Data Science Cookbook     27\n",
       "3    12348                   bruh     30"
      ]
     },
     "execution_count": 10,
     "metadata": {},
     "output_type": "execute_result"
    }
   ],
   "source": [
    "data=pd.DataFrame({\n",
    "    'book_id':[12345,12346,12347,12348],\n",
    "    'title':['Python Programming','Learn MySQL','Data Science Cookbook','bruh'],\n",
    "    'price':[29,23,27,30]\n",
    "})\n",
    "data"
   ]
  },
  {
   "cell_type": "code",
   "execution_count": null,
   "metadata": {},
   "outputs": [],
   "source": [
    "import credentials as cred\n",
    "import requests\n",
    "key=cred.mapquest_api_key\n",
    "bbox=\"39.95,-105.25,39.52,-104.71\"\n",
    "bbox=\"40,-122,39,-121\"\n",
    "response = requests.get(f\"https://www.mapquestapi.com/traffic/v2/incidents?key={key}&boundingBox={bbox}&filters=construction,incidents\")\n",
    "response.json().keys()\n",
    "df = pd.DataFrame(response.json()[\"incidents\"])"
   ]
  },
  {
   "cell_type": "code",
   "execution_count": 40,
   "metadata": {},
   "outputs": [],
   "source": [
    "df = df[['id', 'type', 'severity', 'shortDesc', 'lat', 'lng', 'startTime', 'endTime']]"
   ]
  },
  {
   "cell_type": "code",
   "execution_count": null,
   "metadata": {},
   "outputs": [],
   "source": []
  },
  {
   "cell_type": "code",
   "execution_count": 42,
   "metadata": {},
   "outputs": [],
   "source": [
    "from datetime import datetime\n",
    "from datetime import timedelta\n",
    "\n",
    "tdate = '2023-05-22T16:01:34'\n",
    "sdate = '2023-05-09T15:01:34'"
   ]
  },
  {
   "cell_type": "code",
   "execution_count": 56,
   "metadata": {},
   "outputs": [
    {
     "data": {
      "text/plain": [
       "19"
      ]
     },
     "execution_count": 56,
     "metadata": {},
     "output_type": "execute_result"
    }
   ],
   "source": [
    "df.to_sql('testdate', conn, if_exists='append')"
   ]
  },
  {
   "cell_type": "code",
   "execution_count": 65,
   "metadata": {},
   "outputs": [
    {
     "data": {
      "text/plain": [
       "'2023-05-23 11:03:03'"
      ]
     },
     "execution_count": 65,
     "metadata": {},
     "output_type": "execute_result"
    }
   ],
   "source": [
    "time.strftime('%Y-%m-%d %H:%M:%S')"
   ]
  },
  {
   "cell_type": "code",
   "execution_count": 69,
   "metadata": {},
   "outputs": [
    {
     "data": {
      "text/plain": [
       "5"
      ]
     },
     "execution_count": 69,
     "metadata": {},
     "output_type": "execute_result"
    }
   ],
   "source": [
    "time = datetime.now() + timedelta(hours=12)\n",
    "cmd=\\\n",
    "f\"\"\"\n",
    "    SELECT * FROM testdate\n",
    "    WHERE endDatetime < '{time.strftime('%Y-%m-%d %H:%M:%S')}'\n",
    "\"\"\"\n",
    "df = pd.read_sql_query(cmd, conn)\n",
    "len(df)"
   ]
  },
  {
   "cell_type": "code",
   "execution_count": 59,
   "metadata": {},
   "outputs": [
    {
     "data": {
      "text/plain": [
       "5"
      ]
     },
     "execution_count": 59,
     "metadata": {},
     "output_type": "execute_result"
    }
   ],
   "source": [
    "df['endDatetime'] = df['endTime'].apply(lambda x: datetime.strptime(x, \"%Y-%m-%dT%H:%M:%S\"))\n",
    "test = df[df['endDatetime'] - timedelta(hours=12) < datetime.now()]\n",
    "len(test)"
   ]
  },
  {
   "cell_type": "code",
   "execution_count": 35,
   "metadata": {},
   "outputs": [],
   "source": [
    "dtobj1 = datetime.strptime(tdate,\"%Y-%m-%dT%H:%M:%S\")\n",
    "dtobj2 = datetime.strptime(sdate,\"%Y-%m-%dT%H:%M:%S\")"
   ]
  },
  {
   "cell_type": "code",
   "execution_count": 36,
   "metadata": {},
   "outputs": [
    {
     "data": {
      "text/plain": [
       "True"
      ]
     },
     "execution_count": 36,
     "metadata": {},
     "output_type": "execute_result"
    }
   ],
   "source": [
    "now = datetime.now()\n",
    "dtobj1 + timedelta(hours=5) < now"
   ]
  },
  {
   "cell_type": "code",
   "execution_count": 8,
   "metadata": {},
   "outputs": [],
   "source": [
    "data['first'] = data['title'].apply(lambda x: str.split(x)[0])"
   ]
  },
  {
   "cell_type": "code",
   "execution_count": 29,
   "metadata": {},
   "outputs": [
    {
     "data": {
      "text/html": [
       "<div>\n",
       "<style scoped>\n",
       "    .dataframe tbody tr th:only-of-type {\n",
       "        vertical-align: middle;\n",
       "    }\n",
       "\n",
       "    .dataframe tbody tr th {\n",
       "        vertical-align: top;\n",
       "    }\n",
       "\n",
       "    .dataframe thead th {\n",
       "        text-align: right;\n",
       "    }\n",
       "</style>\n",
       "<table border=\"1\" class=\"dataframe\">\n",
       "  <thead>\n",
       "    <tr style=\"text-align: right;\">\n",
       "      <th></th>\n",
       "      <th>book_id</th>\n",
       "      <th>title</th>\n",
       "      <th>price</th>\n",
       "    </tr>\n",
       "  </thead>\n",
       "  <tbody>\n",
       "    <tr>\n",
       "      <th>0</th>\n",
       "      <td>12345</td>\n",
       "      <td>Python Programming</td>\n",
       "      <td>29</td>\n",
       "    </tr>\n",
       "    <tr>\n",
       "      <th>1</th>\n",
       "      <td>12346</td>\n",
       "      <td>Learn MySQL</td>\n",
       "      <td>23</td>\n",
       "    </tr>\n",
       "    <tr>\n",
       "      <th>2</th>\n",
       "      <td>12347</td>\n",
       "      <td>Data Science Cookbook</td>\n",
       "      <td>27</td>\n",
       "    </tr>\n",
       "    <tr>\n",
       "      <th>3</th>\n",
       "      <td>12348</td>\n",
       "      <td>bruh</td>\n",
       "      <td>30</td>\n",
       "    </tr>\n",
       "  </tbody>\n",
       "</table>\n",
       "</div>"
      ],
      "text/plain": [
       "   book_id                  title  price\n",
       "0    12345     Python Programming     29\n",
       "1    12346            Learn MySQL     23\n",
       "2    12347  Data Science Cookbook     27\n",
       "3    12348                   bruh     30"
      ]
     },
     "execution_count": 29,
     "metadata": {},
     "output_type": "execute_result"
    }
   ],
   "source": [
    "data"
   ]
  },
  {
   "cell_type": "code",
   "execution_count": 8,
   "metadata": {},
   "outputs": [],
   "source": [
    "conn = sqlite3.connect('test.db')"
   ]
  },
  {
   "cell_type": "code",
   "execution_count": 30,
   "metadata": {},
   "outputs": [
    {
     "data": {
      "text/plain": [
       "4"
      ]
     },
     "execution_count": 30,
     "metadata": {},
     "output_type": "execute_result"
    }
   ],
   "source": [
    "data.to_sql('testtable',conn,if_exists='append')"
   ]
  },
  {
   "cell_type": "code",
   "execution_count": 31,
   "metadata": {},
   "outputs": [
    {
     "data": {
      "text/plain": [
       "4"
      ]
     },
     "execution_count": 31,
     "metadata": {},
     "output_type": "execute_result"
    }
   ],
   "source": [
    "data.to_sql('testtable2',conn,if_exists='append')"
   ]
  },
  {
   "cell_type": "code",
   "execution_count": 3,
   "metadata": {},
   "outputs": [
    {
     "ename": "OperationalError",
     "evalue": "near \"SHOW\": syntax error",
     "output_type": "error",
     "traceback": [
      "\u001b[1;31m---------------------------------------------------------------------------\u001b[0m",
      "\u001b[1;31mOperationalError\u001b[0m                          Traceback (most recent call last)",
      "Cell \u001b[1;32mIn[3], line 3\u001b[0m\n\u001b[0;32m      1\u001b[0m cmd \u001b[39m=\u001b[39m \u001b[39m\"\u001b[39m\u001b[39mSHOW TABLES LIKE \u001b[39m\u001b[39m'\u001b[39m\u001b[39mtesttable\u001b[39m\u001b[39m'\u001b[39m\u001b[39m\"\u001b[39m\n\u001b[0;32m      2\u001b[0m cursor \u001b[39m=\u001b[39m conn\u001b[39m.\u001b[39mcursor()\n\u001b[1;32m----> 3\u001b[0m cursor\u001b[39m.\u001b[39;49mexecute(cmd)\n\u001b[0;32m      4\u001b[0m cursor\u001b[39m.\u001b[39mfetchone()\n",
      "\u001b[1;31mOperationalError\u001b[0m: near \"SHOW\": syntax error"
     ]
    }
   ],
   "source": [
    "cmd = \"SHOW TABLES LIKE 'testtable'\"\n",
    "cursor = conn.cursor()\n",
    "cursor.execute(cmd)\n",
    "cursor.fetchone()"
   ]
  },
  {
   "cell_type": "code",
   "execution_count": null,
   "metadata": {},
   "outputs": [],
   "source": []
  },
  {
   "cell_type": "code",
   "execution_count": 37,
   "metadata": {},
   "outputs": [
    {
     "data": {
      "text/plain": [
       "4"
      ]
     },
     "execution_count": 37,
     "metadata": {},
     "output_type": "execute_result"
    }
   ],
   "source": [
    "data.to_sql('testtable2',conn,if_exists='append')"
   ]
  },
  {
   "cell_type": "code",
   "execution_count": 10,
   "metadata": {},
   "outputs": [
    {
     "data": {
      "text/html": [
       "<div>\n",
       "<style scoped>\n",
       "    .dataframe tbody tr th:only-of-type {\n",
       "        vertical-align: middle;\n",
       "    }\n",
       "\n",
       "    .dataframe tbody tr th {\n",
       "        vertical-align: top;\n",
       "    }\n",
       "\n",
       "    .dataframe thead th {\n",
       "        text-align: right;\n",
       "    }\n",
       "</style>\n",
       "<table border=\"1\" class=\"dataframe\">\n",
       "  <thead>\n",
       "    <tr style=\"text-align: right;\">\n",
       "      <th></th>\n",
       "      <th>title</th>\n",
       "      <th>price</th>\n",
       "    </tr>\n",
       "    <tr>\n",
       "      <th>book_id</th>\n",
       "      <th></th>\n",
       "      <th></th>\n",
       "    </tr>\n",
       "  </thead>\n",
       "  <tbody>\n",
       "    <tr>\n",
       "      <th>12345</th>\n",
       "      <td>Python Programming</td>\n",
       "      <td>29</td>\n",
       "    </tr>\n",
       "    <tr>\n",
       "      <th>12346</th>\n",
       "      <td>Learn MySQL</td>\n",
       "      <td>23</td>\n",
       "    </tr>\n",
       "    <tr>\n",
       "      <th>12347</th>\n",
       "      <td>Data Science Cookbook</td>\n",
       "      <td>27</td>\n",
       "    </tr>\n",
       "    <tr>\n",
       "      <th>12348</th>\n",
       "      <td>bruh</td>\n",
       "      <td>30</td>\n",
       "    </tr>\n",
       "  </tbody>\n",
       "</table>\n",
       "</div>"
      ],
      "text/plain": [
       "                         title  price\n",
       "book_id                              \n",
       "12345       Python Programming     29\n",
       "12346              Learn MySQL     23\n",
       "12347    Data Science Cookbook     27\n",
       "12348                     bruh     30"
      ]
     },
     "execution_count": 10,
     "metadata": {},
     "output_type": "execute_result"
    }
   ],
   "source": [
    "# data = data.set_index('book_id')\n",
    "data"
   ]
  },
  {
   "cell_type": "code",
   "execution_count": 35,
   "metadata": {},
   "outputs": [
    {
     "data": {
      "text/plain": [
       "<sqlite3.Cursor at 0x21c43999ac0>"
      ]
     },
     "execution_count": 35,
     "metadata": {},
     "output_type": "execute_result"
    }
   ],
   "source": [
    "cursor = conn.cursor()\n",
    "cmd=\\\n",
    "\"\"\"\n",
    "DELETE FROM testtable2\n",
    "WHERE book_id IN (SELECT book_id FROM testtable)\n",
    "\"\"\"\n",
    "cursor.execute(cmd)"
   ]
  },
  {
   "cell_type": "code",
   "execution_count": 39,
   "metadata": {},
   "outputs": [
    {
     "data": {
      "text/plain": [
       "<sqlite3.Cursor at 0x21c439985c0>"
      ]
     },
     "execution_count": 39,
     "metadata": {},
     "output_type": "execute_result"
    }
   ],
   "source": [
    "cursor = conn.cursor()\n",
    "cmd=\\\n",
    "\"\"\"\n",
    "INSERT INTO testtable\n",
    "SELECT * from testtable2\n",
    "\"\"\"\n",
    "cursor.execute(cmd)"
   ]
  },
  {
   "cell_type": "code",
   "execution_count": 40,
   "metadata": {},
   "outputs": [
    {
     "data": {
      "text/html": [
       "<div>\n",
       "<style scoped>\n",
       "    .dataframe tbody tr th:only-of-type {\n",
       "        vertical-align: middle;\n",
       "    }\n",
       "\n",
       "    .dataframe tbody tr th {\n",
       "        vertical-align: top;\n",
       "    }\n",
       "\n",
       "    .dataframe thead th {\n",
       "        text-align: right;\n",
       "    }\n",
       "</style>\n",
       "<table border=\"1\" class=\"dataframe\">\n",
       "  <thead>\n",
       "    <tr style=\"text-align: right;\">\n",
       "      <th></th>\n",
       "      <th>index</th>\n",
       "      <th>book_id</th>\n",
       "      <th>title</th>\n",
       "      <th>price</th>\n",
       "    </tr>\n",
       "  </thead>\n",
       "  <tbody>\n",
       "    <tr>\n",
       "      <th>0</th>\n",
       "      <td>0</td>\n",
       "      <td>12345</td>\n",
       "      <td>Python Programming</td>\n",
       "      <td>29</td>\n",
       "    </tr>\n",
       "    <tr>\n",
       "      <th>1</th>\n",
       "      <td>1</td>\n",
       "      <td>12346</td>\n",
       "      <td>Learn MySQL</td>\n",
       "      <td>23</td>\n",
       "    </tr>\n",
       "    <tr>\n",
       "      <th>2</th>\n",
       "      <td>2</td>\n",
       "      <td>12347</td>\n",
       "      <td>Data Science Cookbook</td>\n",
       "      <td>27</td>\n",
       "    </tr>\n",
       "    <tr>\n",
       "      <th>3</th>\n",
       "      <td>0</td>\n",
       "      <td>12345</td>\n",
       "      <td>Python Programming</td>\n",
       "      <td>29</td>\n",
       "    </tr>\n",
       "    <tr>\n",
       "      <th>4</th>\n",
       "      <td>1</td>\n",
       "      <td>12346</td>\n",
       "      <td>Learn MySQL</td>\n",
       "      <td>23</td>\n",
       "    </tr>\n",
       "    <tr>\n",
       "      <th>5</th>\n",
       "      <td>2</td>\n",
       "      <td>12347</td>\n",
       "      <td>Data Science Cookbook</td>\n",
       "      <td>27</td>\n",
       "    </tr>\n",
       "    <tr>\n",
       "      <th>6</th>\n",
       "      <td>3</td>\n",
       "      <td>12348</td>\n",
       "      <td>bruh</td>\n",
       "      <td>30</td>\n",
       "    </tr>\n",
       "    <tr>\n",
       "      <th>7</th>\n",
       "      <td>0</td>\n",
       "      <td>12345</td>\n",
       "      <td>Python Programming</td>\n",
       "      <td>29</td>\n",
       "    </tr>\n",
       "    <tr>\n",
       "      <th>8</th>\n",
       "      <td>1</td>\n",
       "      <td>12346</td>\n",
       "      <td>Learn MySQL</td>\n",
       "      <td>23</td>\n",
       "    </tr>\n",
       "    <tr>\n",
       "      <th>9</th>\n",
       "      <td>2</td>\n",
       "      <td>12347</td>\n",
       "      <td>Data Science Cookbook</td>\n",
       "      <td>27</td>\n",
       "    </tr>\n",
       "    <tr>\n",
       "      <th>10</th>\n",
       "      <td>3</td>\n",
       "      <td>12348</td>\n",
       "      <td>bruh</td>\n",
       "      <td>30</td>\n",
       "    </tr>\n",
       "    <tr>\n",
       "      <th>11</th>\n",
       "      <td>0</td>\n",
       "      <td>12345</td>\n",
       "      <td>Python Programming</td>\n",
       "      <td>29</td>\n",
       "    </tr>\n",
       "    <tr>\n",
       "      <th>12</th>\n",
       "      <td>1</td>\n",
       "      <td>12346</td>\n",
       "      <td>Learn MySQL</td>\n",
       "      <td>23</td>\n",
       "    </tr>\n",
       "    <tr>\n",
       "      <th>13</th>\n",
       "      <td>2</td>\n",
       "      <td>12347</td>\n",
       "      <td>Data Science Cookbook</td>\n",
       "      <td>27</td>\n",
       "    </tr>\n",
       "    <tr>\n",
       "      <th>14</th>\n",
       "      <td>3</td>\n",
       "      <td>12348</td>\n",
       "      <td>bruh</td>\n",
       "      <td>30</td>\n",
       "    </tr>\n",
       "  </tbody>\n",
       "</table>\n",
       "</div>"
      ],
      "text/plain": [
       "    index  book_id                  title  price\n",
       "0       0    12345     Python Programming     29\n",
       "1       1    12346            Learn MySQL     23\n",
       "2       2    12347  Data Science Cookbook     27\n",
       "3       0    12345     Python Programming     29\n",
       "4       1    12346            Learn MySQL     23\n",
       "5       2    12347  Data Science Cookbook     27\n",
       "6       3    12348                   bruh     30\n",
       "7       0    12345     Python Programming     29\n",
       "8       1    12346            Learn MySQL     23\n",
       "9       2    12347  Data Science Cookbook     27\n",
       "10      3    12348                   bruh     30\n",
       "11      0    12345     Python Programming     29\n",
       "12      1    12346            Learn MySQL     23\n",
       "13      2    12347  Data Science Cookbook     27\n",
       "14      3    12348                   bruh     30"
      ]
     },
     "execution_count": 40,
     "metadata": {},
     "output_type": "execute_result"
    }
   ],
   "source": [
    "cmd=\\\n",
    "\"\"\"\n",
    "    SELECT * from testtable\n",
    "\"\"\"\n",
    "df = pd.read_sql_query(cmd, conn)\n",
    "df"
   ]
  },
  {
   "cell_type": "code",
   "execution_count": 36,
   "metadata": {},
   "outputs": [
    {
     "data": {
      "text/html": [
       "<div>\n",
       "<style scoped>\n",
       "    .dataframe tbody tr th:only-of-type {\n",
       "        vertical-align: middle;\n",
       "    }\n",
       "\n",
       "    .dataframe tbody tr th {\n",
       "        vertical-align: top;\n",
       "    }\n",
       "\n",
       "    .dataframe thead th {\n",
       "        text-align: right;\n",
       "    }\n",
       "</style>\n",
       "<table border=\"1\" class=\"dataframe\">\n",
       "  <thead>\n",
       "    <tr style=\"text-align: right;\">\n",
       "      <th></th>\n",
       "      <th>index</th>\n",
       "      <th>book_id</th>\n",
       "      <th>title</th>\n",
       "      <th>price</th>\n",
       "    </tr>\n",
       "  </thead>\n",
       "  <tbody>\n",
       "    <tr>\n",
       "      <th>0</th>\n",
       "      <td>0</td>\n",
       "      <td>12345</td>\n",
       "      <td>Python Programming</td>\n",
       "      <td>29</td>\n",
       "    </tr>\n",
       "    <tr>\n",
       "      <th>1</th>\n",
       "      <td>1</td>\n",
       "      <td>12346</td>\n",
       "      <td>Learn MySQL</td>\n",
       "      <td>23</td>\n",
       "    </tr>\n",
       "    <tr>\n",
       "      <th>2</th>\n",
       "      <td>2</td>\n",
       "      <td>12347</td>\n",
       "      <td>Data Science Cookbook</td>\n",
       "      <td>27</td>\n",
       "    </tr>\n",
       "    <tr>\n",
       "      <th>3</th>\n",
       "      <td>3</td>\n",
       "      <td>12348</td>\n",
       "      <td>bruh</td>\n",
       "      <td>30</td>\n",
       "    </tr>\n",
       "  </tbody>\n",
       "</table>\n",
       "</div>"
      ],
      "text/plain": [
       "   index  book_id                  title  price\n",
       "0      0    12345     Python Programming     29\n",
       "1      1    12346            Learn MySQL     23\n",
       "2      2    12347  Data Science Cookbook     27\n",
       "3      3    12348                   bruh     30"
      ]
     },
     "execution_count": 36,
     "metadata": {},
     "output_type": "execute_result"
    }
   ],
   "source": [
    "cmd=\\\n",
    "\"\"\"\n",
    "    SELECT * FROM testtable t1\n",
    "    FULL OUTER JOIN testtable2 t2\n",
    "    ON t1.book_id=t2.book_id\n",
    "    WHERE t1.book_id IS NULL\n",
    "    OR t2.book_id IS NULL\n",
    "\"\"\"\n",
    "cmd=\\\n",
    "\"\"\"\n",
    "    SELECT * FROM testtable t1\n",
    "    UNION\n",
    "    SELECT * FROM testtable2 t2\n",
    "\"\"\"\n",
    "df = pd.read_sql_query(cmd, conn)\n",
    "df"
   ]
  }
 ],
 "metadata": {
  "kernelspec": {
   "display_name": "PIC16B",
   "language": "python",
   "name": "python3"
  },
  "language_info": {
   "codemirror_mode": {
    "name": "ipython",
    "version": 3
   },
   "file_extension": ".py",
   "mimetype": "text/x-python",
   "name": "python",
   "nbconvert_exporter": "python",
   "pygments_lexer": "ipython3",
   "version": "3.11.2"
  },
  "orig_nbformat": 4
 },
 "nbformat": 4,
 "nbformat_minor": 2
}
